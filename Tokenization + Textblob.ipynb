{
  "nbformat": 4,
  "nbformat_minor": 0,
  "metadata": {
    "colab": {
      "name": "Assignment_3.ipynb",
      "provenance": [],
      "collapsed_sections": [],
      "toc_visible": true
    },
    "kernelspec": {
      "name": "python3",
      "display_name": "Python 3"
    }
  },
  "cells": [
    {
      "cell_type": "markdown",
      "metadata": {
        "id": "8UW1Kik2L1-_"
      },
      "source": [
        "# **Assignment 3:** Tokenization Using TextBlob Words\n",
        "### Emily Daskas"
      ]
    },
    {
      "cell_type": "code",
      "metadata": {
        "colab": {
          "base_uri": "https://localhost:8080/"
        },
        "id": "T6VV6ybqL5sw",
        "outputId": "4698c521-81ee-4631-8b86-a579862e342b"
      },
      "source": [
        "from textblob import TextBlob\n",
        "import nltk\n",
        "nltk.download('punkt')\n",
        "nltk.download('brown')\n",
        "nltk.download('stopwords')\n",
        "from nltk.corpus import stopwords\n",
        "\n",
        "from operator import itemgetter\n",
        "\n",
        "import pandas as pd\n",
        "from PIL import Image\n",
        "import matplotlib.pyplot as plt\n",
        "import imageio\n",
        "from wordcloud import WordCloud"
      ],
      "execution_count": null,
      "outputs": [
        {
          "output_type": "stream",
          "text": [
            "[nltk_data] Downloading package punkt to /root/nltk_data...\n",
            "[nltk_data]   Package punkt is already up-to-date!\n",
            "[nltk_data] Downloading package brown to /root/nltk_data...\n",
            "[nltk_data]   Package brown is already up-to-date!\n",
            "[nltk_data] Downloading package stopwords to /root/nltk_data...\n",
            "[nltk_data]   Package stopwords is already up-to-date!\n"
          ],
          "name": "stdout"
        }
      ]
    },
    {
      "cell_type": "code",
      "metadata": {
        "id": "9K2hqHjgMnJa"
      },
      "source": [
        "textTotal = open('/RomeoJuliet.txt').read()\n",
        "blobTotal = TextBlob(textTotal)\n",
        "\n",
        "numChars = 1000\n",
        "text1000 = textTotal[0:numChars+1]\n",
        "blob1000 = TextBlob(text1000)"
      ],
      "execution_count": null,
      "outputs": []
    },
    {
      "cell_type": "markdown",
      "metadata": {
        "id": "e5ncicGGM-FX"
      },
      "source": [
        "**Analysis of Words**"
      ]
    },
    {
      "cell_type": "markdown",
      "metadata": {
        "id": "-8pLTZqxNLqc"
      },
      "source": [
        "1. Count and display the words in the first 1,000 characters of the text. Display all the words by\n",
        "printing 10 words per line."
      ]
    },
    {
      "cell_type": "code",
      "metadata": {
        "colab": {
          "base_uri": "https://localhost:8080/"
        },
        "id": "C4fdCZDQNu29",
        "outputId": "0753af34-72fa-49d1-ce5d-9fa55c8cd9e4"
      },
      "source": [
        "def print_words(list_words, num_elems):\n",
        "  for j in range(0, len(list_words), num_elems):\n",
        "    for i in range(j, j+num_elems):\n",
        "      if (i >= len(list_words)):\n",
        "        break\n",
        "      print(i, '.', list_words[i], end = ',  ')\n",
        "    print()\n",
        "  print()\n",
        "\n",
        "print_words(blob1000.words, 10)\n",
        "print(\"Count of words in first 1000 chars:\", len(blob1000.words))"
      ],
      "execution_count": null,
      "outputs": [
        {
          "output_type": "stream",
          "text": [
            "0 . Project,  1 . Gutenberg,  2 . ’,  3 . s,  4 . Romeo,  5 . and,  6 . Juliet,  7 . by,  8 . William,  9 . Shakespeare,  \n",
            "10 . This,  11 . eBook,  12 . is,  13 . for,  14 . the,  15 . use,  16 . of,  17 . anyone,  18 . anywhere,  19 . in,  \n",
            "20 . the,  21 . United,  22 . States,  23 . and,  24 . most,  25 . other,  26 . parts,  27 . of,  28 . the,  29 . world,  \n",
            "30 . at,  31 . no,  32 . cost,  33 . and,  34 . with,  35 . almost,  36 . no,  37 . restrictions,  38 . whatsoever,  39 . You,  \n",
            "40 . may,  41 . copy,  42 . it,  43 . give,  44 . it,  45 . away,  46 . or,  47 . re-use,  48 . it,  49 . under,  \n",
            "50 . the,  51 . terms,  52 . of,  53 . the,  54 . Project,  55 . Gutenberg,  56 . License,  57 . included,  58 . with,  59 . this,  \n",
            "60 . eBook,  61 . or,  62 . online,  63 . at,  64 . www.gutenberg.org,  65 . If,  66 . you,  67 . are,  68 . not,  69 . located,  \n",
            "70 . in,  71 . the,  72 . United,  73 . States,  74 . you,  75 . ’,  76 . ll,  77 . have,  78 . to,  79 . check,  \n",
            "80 . the,  81 . laws,  82 . of,  83 . the,  84 . country,  85 . where,  86 . you,  87 . are,  88 . located,  89 . before,  \n",
            "90 . using,  91 . this,  92 . ebook,  93 . Title,  94 . Romeo,  95 . and,  96 . Juliet,  97 . Author,  98 . William,  99 . Shakespeare,  \n",
            "100 . Release,  101 . Date,  102 . November,  103 . 1998,  104 . Etext,  105 . 1513,  106 . Last,  107 . Updated,  108 . January,  109 . 30,  \n",
            "110 . 2019,  111 . Language,  112 . English,  113 . Character,  114 . set,  115 . encoding,  116 . UTF-8,  117 . START,  118 . OF,  119 . THIS,  \n",
            "120 . PROJECT,  121 . GUTENBERG,  122 . EBOOK,  123 . ROMEO,  124 . AND,  125 . JULIET,  126 . This,  127 . etext,  128 . was,  129 . produced,  \n",
            "130 . by,  131 . the,  132 . PG,  133 . Shakespeare,  134 . Team,  135 . a,  136 . team,  137 . of,  138 . about,  139 . twenty,  \n",
            "140 . Project,  141 . Gutenberg,  142 . volunteers,  143 . THE,  144 . TRAGEDY,  145 . OF,  146 . ROMEO,  147 . AND,  148 . JULIET,  149 . by,  \n",
            "150 . William,  151 . Shakespeare,  152 . Contents,  153 . THE,  154 . PROLOGUE,  155 . ACT,  156 . I,  157 . Scene,  158 . I,  159 . A,  \n",
            "160 . public,  161 . place,  162 . Scene,  163 . II,  164 . A,  165 . Street,  166 . Sc,  \n",
            "\n",
            "Count of words in first 1000 chars: 167\n"
          ],
          "name": "stdout"
        }
      ]
    },
    {
      "cell_type": "markdown",
      "metadata": {
        "id": "fQqz5ck8NOdb"
      },
      "source": [
        "2. Count the words in the entire text."
      ]
    },
    {
      "cell_type": "code",
      "metadata": {
        "colab": {
          "base_uri": "https://localhost:8080/"
        },
        "id": "bZ_U5ReWRi02",
        "outputId": "1472de7d-881c-4585-8845-66eead9bebcd"
      },
      "source": [
        "len(blobTotal.words)"
      ],
      "execution_count": null,
      "outputs": [
        {
          "output_type": "execute_result",
          "data": {
            "text/plain": [
              "30796"
            ]
          },
          "metadata": {
            "tags": []
          },
          "execution_count": 14
        }
      ]
    },
    {
      "cell_type": "markdown",
      "metadata": {
        "id": "j54zcJ5eNQnR"
      },
      "source": [
        "3. Count the unique words in the entire text."
      ]
    },
    {
      "cell_type": "code",
      "metadata": {
        "colab": {
          "base_uri": "https://localhost:8080/"
        },
        "id": "3_KflLeeR6hi",
        "outputId": "73ecc15f-31f7-47b7-cc4a-da1b1f1aa366"
      },
      "source": [
        "dict_uniqueword_freq = blobTotal.word_counts.items()\n",
        "len(dict_uniqueword_freq)"
      ],
      "execution_count": null,
      "outputs": [
        {
          "output_type": "execute_result",
          "data": {
            "text/plain": [
              "4145"
            ]
          },
          "metadata": {
            "tags": []
          },
          "execution_count": 18
        }
      ]
    },
    {
      "cell_type": "markdown",
      "metadata": {
        "id": "l5srbvqyNQzr"
      },
      "source": [
        "4. Count the unique words in the entire text after removing the stop-words from the list."
      ]
    },
    {
      "cell_type": "code",
      "metadata": {
        "colab": {
          "base_uri": "https://localhost:8080/"
        },
        "id": "0Arns-ZPSR6d",
        "outputId": "90dcaece-7bfa-45a9-bd7b-a64856d48bbe"
      },
      "source": [
        "stop_words = stopwords.words('english')\n",
        "unique_word_freq_wo_stop = []\n",
        "\n",
        "for i in dict_uniqueword_freq:\n",
        "  if i[0] not in stop_words:\n",
        "    unique_word_freq_wo_stop.append(i)\n",
        "print(len(unique_word_freq_wo_stop))\n"
      ],
      "execution_count": null,
      "outputs": [
        {
          "output_type": "stream",
          "text": [
            "4017\n"
          ],
          "name": "stdout"
        }
      ]
    },
    {
      "cell_type": "markdown",
      "metadata": {
        "id": "JFHfUBujNQ8N"
      },
      "source": [
        "5. Print the top-10 words in the entire text with highest frequency. Also display words’ frequency."
      ]
    },
    {
      "cell_type": "code",
      "metadata": {
        "colab": {
          "base_uri": "https://localhost:8080/",
          "height": 359
        },
        "id": "ihU8a5LFTQYn",
        "outputId": "a13a63b5-a90b-4d1e-c840-e5a88a05ec16"
      },
      "source": [
        "sorted_by_freq = sorted(list(dict_uniqueword_freq), key = itemgetter(1), reverse = True)\n",
        "top_10_frequencies = sorted_by_freq[0:10]\n",
        "\n",
        "pd.DataFrame(top_10_frequencies, columns = ['word', 'frequency'])"
      ],
      "execution_count": null,
      "outputs": [
        {
          "output_type": "execute_result",
          "data": {
            "text/html": [
              "<div>\n",
              "<style scoped>\n",
              "    .dataframe tbody tr th:only-of-type {\n",
              "        vertical-align: middle;\n",
              "    }\n",
              "\n",
              "    .dataframe tbody tr th {\n",
              "        vertical-align: top;\n",
              "    }\n",
              "\n",
              "    .dataframe thead th {\n",
              "        text-align: right;\n",
              "    }\n",
              "</style>\n",
              "<table border=\"1\" class=\"dataframe\">\n",
              "  <thead>\n",
              "    <tr style=\"text-align: right;\">\n",
              "      <th></th>\n",
              "      <th>word</th>\n",
              "      <th>frequency</th>\n",
              "    </tr>\n",
              "  </thead>\n",
              "  <tbody>\n",
              "    <tr>\n",
              "      <th>0</th>\n",
              "      <td>the</td>\n",
              "      <td>876</td>\n",
              "    </tr>\n",
              "    <tr>\n",
              "      <th>1</th>\n",
              "      <td>’</td>\n",
              "      <td>869</td>\n",
              "    </tr>\n",
              "    <tr>\n",
              "      <th>2</th>\n",
              "      <td>and</td>\n",
              "      <td>808</td>\n",
              "    </tr>\n",
              "    <tr>\n",
              "      <th>3</th>\n",
              "      <td>i</td>\n",
              "      <td>655</td>\n",
              "    </tr>\n",
              "    <tr>\n",
              "      <th>4</th>\n",
              "      <td>to</td>\n",
              "      <td>626</td>\n",
              "    </tr>\n",
              "    <tr>\n",
              "      <th>5</th>\n",
              "      <td>a</td>\n",
              "      <td>542</td>\n",
              "    </tr>\n",
              "    <tr>\n",
              "      <th>6</th>\n",
              "      <td>of</td>\n",
              "      <td>519</td>\n",
              "    </tr>\n",
              "    <tr>\n",
              "      <th>7</th>\n",
              "      <td>in</td>\n",
              "      <td>395</td>\n",
              "    </tr>\n",
              "    <tr>\n",
              "      <th>8</th>\n",
              "      <td>is</td>\n",
              "      <td>372</td>\n",
              "    </tr>\n",
              "    <tr>\n",
              "      <th>9</th>\n",
              "      <td>that</td>\n",
              "      <td>369</td>\n",
              "    </tr>\n",
              "  </tbody>\n",
              "</table>\n",
              "</div>"
            ],
            "text/plain": [
              "   word  frequency\n",
              "0   the        876\n",
              "1     ’        869\n",
              "2   and        808\n",
              "3     i        655\n",
              "4    to        626\n",
              "5     a        542\n",
              "6    of        519\n",
              "7    in        395\n",
              "8    is        372\n",
              "9  that        369"
            ]
          },
          "metadata": {
            "tags": []
          },
          "execution_count": 20
        }
      ]
    },
    {
      "cell_type": "markdown",
      "metadata": {
        "id": "5RI_HmwqNRG6"
      },
      "source": [
        "6. Print the top-10 words in the entire text with highest frequency after removing the stop-words from the list. Also display words’ frequency."
      ]
    },
    {
      "cell_type": "code",
      "metadata": {
        "colab": {
          "base_uri": "https://localhost:8080/",
          "height": 359
        },
        "id": "x4GoK2q5U6xW",
        "outputId": "1a18ef72-1bbf-4dad-c978-de266b75400a"
      },
      "source": [
        "sorted_by_freq_wo_stop = sorted(list(unique_word_freq_wo_stop), key = itemgetter(1), reverse = True)\n",
        "top_10_frequencies_wo_stop = sorted_by_freq_wo_stop[0:10]\n",
        "\n",
        "pd.DataFrame(top_10_frequencies_wo_stop, columns = ['word', 'frequency'])"
      ],
      "execution_count": null,
      "outputs": [
        {
          "output_type": "execute_result",
          "data": {
            "text/html": [
              "<div>\n",
              "<style scoped>\n",
              "    .dataframe tbody tr th:only-of-type {\n",
              "        vertical-align: middle;\n",
              "    }\n",
              "\n",
              "    .dataframe tbody tr th {\n",
              "        vertical-align: top;\n",
              "    }\n",
              "\n",
              "    .dataframe thead th {\n",
              "        text-align: right;\n",
              "    }\n",
              "</style>\n",
              "<table border=\"1\" class=\"dataframe\">\n",
              "  <thead>\n",
              "    <tr style=\"text-align: right;\">\n",
              "      <th></th>\n",
              "      <th>word</th>\n",
              "      <th>frequency</th>\n",
              "    </tr>\n",
              "  </thead>\n",
              "  <tbody>\n",
              "    <tr>\n",
              "      <th>0</th>\n",
              "      <td>’</td>\n",
              "      <td>869</td>\n",
              "    </tr>\n",
              "    <tr>\n",
              "      <th>1</th>\n",
              "      <td>romeo</td>\n",
              "      <td>320</td>\n",
              "    </tr>\n",
              "    <tr>\n",
              "      <th>2</th>\n",
              "      <td>thou</td>\n",
              "      <td>278</td>\n",
              "    </tr>\n",
              "    <tr>\n",
              "      <th>3</th>\n",
              "      <td>juliet</td>\n",
              "      <td>195</td>\n",
              "    </tr>\n",
              "    <tr>\n",
              "      <th>4</th>\n",
              "      <td>thy</td>\n",
              "      <td>170</td>\n",
              "    </tr>\n",
              "    <tr>\n",
              "      <th>5</th>\n",
              "      <td>capulet</td>\n",
              "      <td>163</td>\n",
              "    </tr>\n",
              "    <tr>\n",
              "      <th>6</th>\n",
              "      <td>nurse</td>\n",
              "      <td>149</td>\n",
              "    </tr>\n",
              "    <tr>\n",
              "      <th>7</th>\n",
              "      <td>love</td>\n",
              "      <td>148</td>\n",
              "    </tr>\n",
              "    <tr>\n",
              "      <th>8</th>\n",
              "      <td>thee</td>\n",
              "      <td>138</td>\n",
              "    </tr>\n",
              "    <tr>\n",
              "      <th>9</th>\n",
              "      <td>lady</td>\n",
              "      <td>117</td>\n",
              "    </tr>\n",
              "  </tbody>\n",
              "</table>\n",
              "</div>"
            ],
            "text/plain": [
              "      word  frequency\n",
              "0        ’        869\n",
              "1    romeo        320\n",
              "2     thou        278\n",
              "3   juliet        195\n",
              "4      thy        170\n",
              "5  capulet        163\n",
              "6    nurse        149\n",
              "7     love        148\n",
              "8     thee        138\n",
              "9     lady        117"
            ]
          },
          "metadata": {
            "tags": []
          },
          "execution_count": 28
        }
      ]
    },
    {
      "cell_type": "markdown",
      "metadata": {
        "id": "TPVcaT-QNRlv"
      },
      "source": [
        "7. Count and display the noun-phrases in the first 1,000 characters of the text. Display all the noun-phrases by printing 3 noun-phrases per line.\n"
      ]
    },
    {
      "cell_type": "code",
      "metadata": {
        "colab": {
          "base_uri": "https://localhost:8080/"
        },
        "id": "ngzpkeP3VVQ1",
        "outputId": "1ba98529-aff6-40e7-a024-4970942c6e48"
      },
      "source": [
        "print_words(blob1000.noun_phrases, 3)\n",
        "len(blob1000.noun_phrases)"
      ],
      "execution_count": null,
      "outputs": [
        {
          "output_type": "stream",
          "text": [
            "0 . project gutenberg,  1 . ’ s,  2 . romeo,  \n",
            "3 . juliet,  4 . william shakespeare,  5 . restrictions whatsoever,  \n",
            "6 . project gutenberg license,  7 . ’ ll,  8 . title,  \n",
            "9 . romeo,  10 . juliet author,  11 . william shakespeare release date,  \n",
            "12 . november,  13 . etext,  14 . updated,  \n",
            "15 . january,  16 . language,  17 . english character,  \n",
            "18 . utf-8,  19 . start of this project gutenberg ebook romeo and juliet,  20 . pg shakespeare team,  \n",
            "21 . project gutenberg,  22 . the tragedy of romeo and juliet,  23 . william shakespeare contents the prologue,  \n",
            "24 . act,  25 . scene,  26 . public place,  \n",
            "27 . scene ii,  28 . sc,  \n",
            "\n"
          ],
          "name": "stdout"
        },
        {
          "output_type": "execute_result",
          "data": {
            "text/plain": [
              "29"
            ]
          },
          "metadata": {
            "tags": []
          },
          "execution_count": 44
        }
      ]
    },
    {
      "cell_type": "markdown",
      "metadata": {
        "id": "UX5bEK1LNjI0"
      },
      "source": [
        "8. Count the noun-phrases in the entire text."
      ]
    },
    {
      "cell_type": "code",
      "metadata": {
        "colab": {
          "base_uri": "https://localhost:8080/"
        },
        "id": "HiunUA4hWIXH",
        "outputId": "c8a10cc4-c193-4544-d415-83b89aa131a6"
      },
      "source": [
        "len(blobTotal.noun_phrases)"
      ],
      "execution_count": null,
      "outputs": [
        {
          "output_type": "execute_result",
          "data": {
            "text/plain": [
              "5036"
            ]
          },
          "metadata": {
            "tags": []
          },
          "execution_count": 35
        }
      ]
    },
    {
      "cell_type": "markdown",
      "metadata": {
        "id": "6Wltz9jNNkFQ"
      },
      "source": [
        "9. Print the top-10 noun-phrases in the entire text with highest frequency. Also display noun-\n",
        "phrases’ frequency."
      ]
    },
    {
      "cell_type": "code",
      "metadata": {
        "colab": {
          "base_uri": "https://localhost:8080/"
        },
        "id": "vzUDGJwRWROv",
        "outputId": "256eed7f-bdaf-41c9-8bfd-a704697c1adf"
      },
      "source": [
        "dictionary = dict(blobTotal.np_counts)\n",
        "sorted_noun_frequencies = sorted(dictionary, key = dictionary.get, reverse=True)[0:10]\n",
        "for i in range(0,10):\n",
        "  key = sorted_noun_frequencies[i]\n",
        "  value = dictionary[key]\n",
        "  print(key + ' repeats ' + str(value) + ' times ')"
      ],
      "execution_count": null,
      "outputs": [
        {
          "output_type": "stream",
          "text": [
            "romeo repeats 297 times \n",
            "juliet repeats 177 times \n",
            "nurse repeats 132 times \n",
            "capulet repeats 106 times \n",
            "’ s repeats 98 times \n",
            "mercutio repeats 86 times \n",
            "tybalt repeats 75 times \n",
            "benvolio repeats 72 times \n",
            "friar lawrence repeats 69 times \n",
            "’ ll repeats 68 times \n"
          ],
          "name": "stdout"
        }
      ]
    },
    {
      "cell_type": "markdown",
      "metadata": {
        "id": "oy-Z1O3vNm8R"
      },
      "source": [
        "\n",
        "10. Print the words in the entire text that contain a string “WA”."
      ]
    },
    {
      "cell_type": "code",
      "metadata": {
        "colab": {
          "base_uri": "https://localhost:8080/"
        },
        "id": "SpEnE3iAb7Bb",
        "outputId": "932f93de-704d-4a2d-995b-5c4268ddbb49"
      },
      "source": [
        "for word in blobTotal.words:\n",
        "  if 'WA' in word:\n",
        "    print(word)"
      ],
      "execution_count": null,
      "outputs": [
        {
          "output_type": "stream",
          "text": [
            "WATCH\n",
            "WATCH\n",
            "WATCH\n",
            "WATCH\n",
            "WATCH\n",
            "WATCH\n",
            "WATCH\n",
            "WATCH\n",
            "WARRANTY\n",
            "WARRANTY\n",
            "WARRANTIES\n",
            "WARRANTIES\n"
          ],
          "name": "stdout"
        }
      ]
    },
    {
      "cell_type": "markdown",
      "metadata": {
        "id": "Y-UianpQNpEX"
      },
      "source": [
        "11. Visualize Word Frequencies. Create WordClouds for the entire text. Use any one of the following 4 masks.\n",
        "a. Heart b. Circle c. Star d. Oval\n",
        "The image files for all the 4 masks are provided in the .png file format."
      ]
    },
    {
      "cell_type": "code",
      "metadata": {
        "id": "PHvkYravMuxi",
        "colab": {
          "base_uri": "https://localhost:8080/",
          "height": 286
        },
        "outputId": "52eba39d-246a-4457-9ade-1fed9c60c326"
      },
      "source": [
        "mask_image = imageio.imread(str('/mask_heart.png'))\n",
        "word_cloud = WordCloud(colormap = 'prism', mask = mask_image, background_color = 'white')\n",
        "word_cloud_image = word_cloud.generate(textTotal)\n",
        "\n",
        "word_cloud_file = word_cloud_image.to_file('romeo.png')\n",
        "word_cloud_image.to_image\n",
        "im = Image.open('romeo.png')\n",
        "fig,aux = plt.subplots()\n",
        "aux.imshow(im)\n"
      ],
      "execution_count": null,
      "outputs": [
        {
          "output_type": "execute_result",
          "data": {
            "text/plain": [
              "<matplotlib.image.AxesImage at 0x7f02f0053d10>"
            ]
          },
          "metadata": {
            "tags": []
          },
          "execution_count": 61
        },
        {
          "output_type": "display_data",
          "data": {
            "image/png": "[encoded data removed]",
            "text/plain": [
              "<Figure size 432x288 with 1 Axes>"
            ]
          },
          "metadata": {
            "tags": [],
            "needs_background": "light"
          }
        }
      ]
    }
  ]
}