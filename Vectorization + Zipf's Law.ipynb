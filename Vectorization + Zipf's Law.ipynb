{
  "nbformat": 4,
  "nbformat_minor": 0,
  "metadata": {
    "colab": {
      "name": "Vectorization and Zipf's Law.ipynb",
      "provenance": [],
      "collapsed_sections": [
        "QQ8CV8vYsj9X",
        "Us8Vi9-iskD0",
        "7SVSM7kDskPN"
      ],
      "toc_visible": true
    },
    "kernelspec": {
      "name": "python3",
      "display_name": "Python 3"
    }
  },
  "cells": [
    {
      "cell_type": "markdown",
      "metadata": {
        "id": "dz3HZavpsckh"
      },
      "source": [
        "# **Assignment 5**:  Vectorization + Zipf's Law \n",
        "##### Emily Daskas\n"
      ]
    },
    {
      "cell_type": "code",
      "metadata": {
        "id": "gyt5QVRLsXyW",
        "colab": {
          "base_uri": "https://localhost:8080/"
        },
        "outputId": "e98d3baf-7946-415d-a74f-d48319933a53"
      },
      "source": [
        "import numpy as np\n",
        "import matplotlib.pyplot as plt\n",
        "import pandas as pd\n",
        "from nltk.tokenize import TreebankWordTokenizer\n",
        "from textblob import TextBlob\n",
        "import nltk\n",
        "nltk.download('punkt')\n",
        "nltk.download('brown')\n",
        "nltk.download('stopwords')\n",
        "from nltk.corpus import stopwords\n",
        "from collections import Counter\n",
        "from collections import OrderedDict"
      ],
      "execution_count": null,
      "outputs": [
        {
          "output_type": "stream",
          "text": [
            "[nltk_data] Downloading package punkt to /root/nltk_data...\n",
            "[nltk_data]   Package punkt is already up-to-date!\n",
            "[nltk_data] Downloading package brown to /root/nltk_data...\n",
            "[nltk_data]   Package brown is already up-to-date!\n",
            "[nltk_data] Downloading package stopwords to /root/nltk_data...\n",
            "[nltk_data]   Package stopwords is already up-to-date!\n"
          ],
          "name": "stdout"
        }
      ]
    },
    {
      "cell_type": "markdown",
      "metadata": {
        "id": "J34O_Q9XsjoP"
      },
      "source": [
        "####**Problem 1**\n",
        "**Suppose we have the following 5 2-D vectors representing 5 separate documents.**\n",
        "\n",
        "A = (3,7)\n",
        "\n",
        "B = (5,36)\n",
        "\n",
        "C = (7,29)\n",
        "\n",
        "D = (212,72)\n",
        "\n",
        "E = (23, 2)"
      ]
    },
    {
      "cell_type": "code",
      "metadata": {
        "id": "JOz4HZ_iuteg"
      },
      "source": [
        "A = np.array([3,7])\n",
        "B = np.array([5,36])\n",
        "C = np.array([7,29])\n",
        "D = np.array([212,72])\n",
        "E = np.array([23,2])\n",
        "\n",
        "all_vectors = np.array([A,B,C,D,E])"
      ],
      "execution_count": null,
      "outputs": []
    },
    {
      "cell_type": "markdown",
      "metadata": {
        "id": "Sj1jKp7Psjz1"
      },
      "source": [
        "\n",
        "\n",
        "a) Compute the following: 𝐴𝑁𝑜𝑟𝑚, 𝐵𝑁𝑜𝑟𝑚, 𝐶𝑁𝑜𝑟𝑚, 𝐷𝑁𝑜𝑟𝑚, 𝐸𝑁𝑜𝑟𝑚\n",
        "\n"
      ]
    },
    {
      "cell_type": "code",
      "metadata": {
        "id": "G5Y5qGTBvN8V"
      },
      "source": [
        "def normalize_vector(vector):\n",
        "  dot_product = np.dot(vector[0], vector[1])\n",
        "  return vector/np.linalg.norm(vector)"
      ],
      "execution_count": null,
      "outputs": []
    },
    {
      "cell_type": "code",
      "metadata": {
        "id": "JzogTHXKvj0o"
      },
      "source": [
        "norm_A = normalize_vector(A)\n",
        "norm_B = normalize_vector(B)\n",
        "norm_C = normalize_vector(C)\n",
        "norm_D = normalize_vector(D)\n",
        "norm_E = normalize_vector(E)\n",
        "all_norm_vectors = [norm_A, norm_B, norm_C, norm_D, norm_E]"
      ],
      "execution_count": null,
      "outputs": []
    },
    {
      "cell_type": "code",
      "metadata": {
        "colab": {
          "base_uri": "https://localhost:8080/"
        },
        "id": "YanQE1Gg1EcJ",
        "outputId": "e52b44a9-fca9-4cdf-b9d8-055b611e830c"
      },
      "source": [
        "for i in range(len(all_vectors)):\n",
        "  print(\"Normalized vector\", all_vectors[i], \":\", all_norm_vectors[i])"
      ],
      "execution_count": null,
      "outputs": [
        {
          "output_type": "stream",
          "text": [
            "Normalized vector [3 7] : [0.3939193  0.91914503]\n",
            "Normalized vector [ 5 36] : [0.13756837 0.99049227]\n",
            "Normalized vector [ 7 29] : [0.23464053 0.97208221]\n",
            "Normalized vector [212  72] : [0.94688159 0.32158243]\n",
            "Normalized vector [23  2] : [0.99624059 0.08662962]\n"
          ],
          "name": "stdout"
        }
      ]
    },
    {
      "cell_type": "markdown",
      "metadata": {
        "id": "HixBblQvsj28"
      },
      "source": [
        "b) Compute the Euclidean distance between all the 5 normalized vectors computed in step a."
      ]
    },
    {
      "cell_type": "code",
      "metadata": {
        "id": "oi1CLI_lyOs1"
      },
      "source": [
        "def compute_euclidean(vector1, vector2):\n",
        "  return np.sqrt(((vector1 - vector2) ** 2).sum())"
      ],
      "execution_count": null,
      "outputs": []
    },
    {
      "cell_type": "code",
      "metadata": {
        "colab": {
          "base_uri": "https://localhost:8080/"
        },
        "id": "qRIEix7Qzo53",
        "outputId": "38065404-21ae-44ca-e296-21f1f3c551bd"
      },
      "source": [
        "all_distances = []\n",
        "for i in all_norm_vectors:\n",
        "  distances = []\n",
        "  for j in all_norm_vectors:\n",
        "    distances.append(compute_euclidean(i, j))\n",
        "  print(distances)"
      ],
      "execution_count": null,
      "outputs": [
        {
          "output_type": "stream",
          "text": [
            "[0.0, 0.2660943949735793, 0.16784537528545287, 0.814154997289469, 1.0275567380419863]\n",
            "[0.2660943949735793, 0.0, 0.09880250543856026, 1.0499658409229273, 1.2467099416034624]\n",
            "[0.16784537528545287, 0.09880250543856026, 0.0, 0.9645917727039076, 1.16793019353233]\n",
            "[0.814154997289469, 1.0499658409229273, 0.9645917727039076, 0.0, 0.24008151480866866]\n",
            "[1.0275567380419863, 1.2467099416034624, 1.16793019353233, 0.24008151480866866, 0.0]\n"
          ],
          "name": "stdout"
        }
      ]
    },
    {
      "cell_type": "markdown",
      "metadata": {
        "id": "ThY_O8RotI3A"
      },
      "source": [
        "c) Compute the Manhattan distance between all the 5 normalized vectors computed in step a."
      ]
    },
    {
      "cell_type": "code",
      "metadata": {
        "id": "pTyQsd9h2pcf"
      },
      "source": [
        "def compute_manhattan(vector1, vector2):\n",
        "  return np.abs(vector1 - vector2).sum()"
      ],
      "execution_count": null,
      "outputs": []
    },
    {
      "cell_type": "code",
      "metadata": {
        "colab": {
          "base_uri": "https://localhost:8080/"
        },
        "id": "L3pc0-gJ2au3",
        "outputId": "e47cd1fc-7ae2-493d-d8cb-14238ec0ccae"
      },
      "source": [
        "all_distances = []\n",
        "for i in all_norm_vectors:\n",
        "  distances = []\n",
        "  for j in all_norm_vectors:\n",
        "    distances.append(compute_manhattan(i, j))\n",
        "  print(distances)"
      ],
      "execution_count": null,
      "outputs": [
        {
          "output_type": "stream",
          "text": [
            "[0.0, 0.32769817046417377, 0.21221594403049976, 1.1505248938014545, 1.4348367032697311]\n",
            "[0.32769817046417377, 0.0, 0.115482226433674, 1.4782230642656284, 1.7625348737339048]\n",
            "[0.21221594403049976, 0.115482226433674, 0.0, 1.3627408378319543, 1.6470526473002307]\n",
            "[1.1505248938014545, 1.4782230642656284, 1.3627408378319543, 0.0, 0.28431180946827656]\n",
            "[1.4348367032697311, 1.7625348737339048, 1.6470526473002307, 0.28431180946827656, 0.0]\n"
          ],
          "name": "stdout"
        }
      ]
    },
    {
      "cell_type": "markdown",
      "metadata": {
        "id": "8HHHOC-7sj6I"
      },
      "source": [
        "d) Compute the “Cosine similarity”and“Cosine distance”between all the 5 normalized vectors computed in step a."
      ]
    },
    {
      "cell_type": "code",
      "metadata": {
        "id": "D2Jw1Gnl3O4L"
      },
      "source": [
        "vector_query = np.array([1,1])\n",
        "normalized_query = vector_query / np.linalg.norm(vector_query)"
      ],
      "execution_count": null,
      "outputs": []
    },
    {
      "cell_type": "code",
      "metadata": {
        "id": "jl7ibQYzydoC"
      },
      "source": [
        "def compute_cosine_similarity(norm_vector, norm_query):\n",
        "  return np.dot(norm_query, norm_vector)"
      ],
      "execution_count": null,
      "outputs": []
    },
    {
      "cell_type": "code",
      "metadata": {
        "colab": {
          "base_uri": "https://localhost:8080/"
        },
        "id": "f0BYtQNv4W67",
        "outputId": "8ea327d8-afe7-472f-a50d-def912d527d5"
      },
      "source": [
        "all_distances = []\n",
        "for i in all_norm_vectors:\n",
        "  distances = []\n",
        "  for j in all_norm_vectors:\n",
        "    distances.append(compute_cosine_similarity(i, j))\n",
        "  print(distances)"
      ],
      "execution_count": null,
      "outputs": [
        {
          "output_type": "stream",
          "text": [
            "[0.9999999999999998, 0.9645968864818224, 0.9859139649976426, 0.6685758201942922, 0.4720635750522563]\n",
            "[0.9645968864818224, 1.0000000000000002, 0.9951190324595317, 0.4487858664475053, 0.22285716075354592]\n",
            "[0.9859139649976426, 0.9951190324595317, 0.9999999999999999, 0.5347813560159665, 0.31796953151776697]\n",
            "[0.6685758201942922, 0.4487858664475053, 0.5347813560159665, 1.0, 0.9711804331235875]\n",
            "[0.4720635750522563, 0.22285716075354592, 0.31796953151776697, 0.9711804331235875, 1.0]\n"
          ],
          "name": "stdout"
        }
      ]
    },
    {
      "cell_type": "code",
      "metadata": {
        "id": "PIonnKMcypDU"
      },
      "source": [
        "def compute_cosine_distance(vector1, vector2):\n",
        "  return 1 - compute_cosine_similarity(vector1, vector2)\n"
      ],
      "execution_count": null,
      "outputs": []
    },
    {
      "cell_type": "code",
      "metadata": {
        "colab": {
          "base_uri": "https://localhost:8080/"
        },
        "id": "rPpD1ez543Q1",
        "outputId": "97e4e83b-7047-4159-8d2f-1216a1b6ea52"
      },
      "source": [
        "all_distances = []\n",
        "for i in all_norm_vectors:\n",
        "  distances = []\n",
        "  for j in all_norm_vectors:\n",
        "    distances.append(compute_cosine_distance(i, j))\n",
        "  print(distances)"
      ],
      "execution_count": null,
      "outputs": [
        {
          "output_type": "stream",
          "text": [
            "[2.220446049250313e-16, 0.0354031135181776, 0.014086035002357389, 0.3314241798057078, 0.5279364249477436]\n",
            "[0.0354031135181776, -2.220446049250313e-16, 0.004880967540468295, 0.5512141335524947, 0.7771428392464541]\n",
            "[0.014086035002357389, 0.004880967540468295, 1.1102230246251565e-16, 0.46521864398403345, 0.682030468482233]\n",
            "[0.3314241798057078, 0.5512141335524947, 0.46521864398403345, 0.0, 0.028819566876412517]\n",
            "[0.5279364249477436, 0.7771428392464541, 0.682030468482233, 0.028819566876412517, 0.0]\n"
          ],
          "name": "stdout"
        }
      ]
    },
    {
      "cell_type": "markdown",
      "metadata": {
        "id": "QQ8CV8vYsj9X"
      },
      "source": [
        "####**Problem 2**\n",
        "**Suppose a user enters a query to a search engine.  The query vector is (4,23).**\n",
        "\n",
        "  • Compute the Cosine distance between the normalized query vector and all the 5 normalized vectors representing documents used in problem#1.\n",
        "\n",
        "  • Out of the 5 documents used in problem#1, which document is closest to the query vector?"
      ]
    },
    {
      "cell_type": "code",
      "metadata": {
        "id": "9B57xSfy57-H"
      },
      "source": [
        "query_vector = np.array([4,23])\n",
        "norm_query_vector = normalize_vector(query_vector)"
      ],
      "execution_count": null,
      "outputs": []
    },
    {
      "cell_type": "code",
      "metadata": {
        "colab": {
          "base_uri": "https://localhost:8080/"
        },
        "id": "c2uxYDXB6INK",
        "outputId": "1a0ad6b8-a2e4-4c99-bd20-f20e14859b8c"
      },
      "source": [
        "for v in all_norm_vectors:\n",
        "  print(compute_cosine_distance(norm_query_vector, v))"
      ],
      "execution_count": null,
      "outputs": [
        {
          "output_type": "stream",
          "text": [
            "0.026952916666384774\n",
            "0.0005842430643980823\n",
            "0.0020895968762466577\n",
            "0.5209334096470837\n",
            "0.7439544509255165\n"
          ],
          "name": "stdout"
        }
      ]
    },
    {
      "cell_type": "markdown",
      "metadata": {
        "id": "M87PjX8A6puW"
      },
      "source": [
        "*Answer: B was the closest to the query vector. We can see the cosine distance for B, .0005, is the smallest.*"
      ]
    },
    {
      "cell_type": "markdown",
      "metadata": {
        "id": "wmi3EjW8skAi"
      },
      "source": [
        "Plot all the 5 vectors and the query vector. Show in your plot that the second document ‘B’ is closest to the query vector."
      ]
    },
    {
      "cell_type": "code",
      "metadata": {
        "colab": {
          "base_uri": "https://localhost:8080/",
          "height": 286
        },
        "id": "N-hVlf1I7quT",
        "outputId": "9e6eb594-55d7-44c4-88d0-54c72847377c"
      },
      "source": [
        "plt.quiver(\n",
        "    [0,0,0,0,0,0],\n",
        "    [0,0,0,0,0,0],\n",
        "    [norm_A[0], norm_B[0], norm_C[0], norm_D[0], norm_E[0], norm_query_vector[0]],\n",
        "    [norm_A[1], norm_B[1], norm_C[1], norm_D[1], norm_E[1], norm_query_vector[1]],\n",
        "    color = ['k','b','k','k','k','r'],\n",
        "  angles = 'xy', scale_units='xy', scale = 1)\n",
        "plt.xlim(0,1)\n",
        "plt.ylim(0,1)\n",
        "plt.legend()\n",
        "plt.show()\n",
        "    "
      ],
      "execution_count": null,
      "outputs": [
        {
          "output_type": "stream",
          "text": [
            "No handles with labels found to put in legend.\n"
          ],
          "name": "stderr"
        },
        {
          "output_type": "display_data",
          "data": {
            "image/png": "[encoded data removed]",
            "text/plain": [
              "<Figure size 432x288 with 1 Axes>"
            ]
          },
          "metadata": {
            "tags": [],
            "needs_background": "light"
          }
        }
      ]
    },
    {
      "cell_type": "markdown",
      "metadata": {
        "id": "Us8Vi9-iskD0"
      },
      "source": [
        "####**Problem 3**\n",
        "**Suppose we have the following 2 documents.**\n",
        "\n",
        "**Document 1** \n",
        "*It’s become a familiar sight for the Chapman community: President Daniele Struppa standing on stage at the Musco Center, addressing a combined audience of university faculty, staff and university supporters.*\n",
        "\n",
        "**Document 2** \n",
        "*What was different this year —as has been the case for most events this year —was that everyone in the audience was viewing the address from home.*"
      ]
    },
    {
      "cell_type": "code",
      "metadata": {
        "id": "DmP8wAVz899R"
      },
      "source": [
        "document_1 = \"It’s become a familiar sight for the Chapman community: President Daniele Struppa standing on stage at the Musco Center, addressing a combined audience of university faculty, staff and university supporters.\"\n",
        "document_2 = \"What was different this year —as has been the case for most events this year —was that everyone in the audience was viewing the address from home.\""
      ],
      "execution_count": null,
      "outputs": []
    },
    {
      "cell_type": "markdown",
      "metadata": {
        "id": "tQwEKovoskHK"
      },
      "source": [
        "1. Using the Count Vectorizer compute the BOW (Bag-of-words) vector for each of the document. \n",
        "\n"
      ]
    },
    {
      "cell_type": "code",
      "metadata": {
        "id": "J2oRPLhCCopN"
      },
      "source": [
        "tokenizer = TreebankWordTokenizer()\n",
        "tokens_1 = tokenizer.tokenize(document_1.lower())\n",
        "bag_of_words_1 = Counter(tokens_1)\n",
        "tokens_2 = tokenizer.tokenize(document_2.lower())\n",
        "bag_of_words_2 = Counter(tokens_2)\n"
      ],
      "execution_count": null,
      "outputs": []
    },
    {
      "cell_type": "code",
      "metadata": {
        "colab": {
          "base_uri": "https://localhost:8080/"
        },
        "id": "jwSrOny1-uFi",
        "outputId": "5469ec4f-a0ec-417c-eb4f-a99ca22c4e4e"
      },
      "source": [
        "bag_of_words_1"
      ],
      "execution_count": null,
      "outputs": [
        {
          "output_type": "execute_result",
          "data": {
            "text/plain": [
              "Counter({',': 2,\n",
              "         '.': 1,\n",
              "         ':': 1,\n",
              "         'a': 2,\n",
              "         'addressing': 1,\n",
              "         'and': 1,\n",
              "         'at': 1,\n",
              "         'audience': 1,\n",
              "         'become': 1,\n",
              "         'center': 1,\n",
              "         'chapman': 1,\n",
              "         'combined': 1,\n",
              "         'community': 1,\n",
              "         'daniele': 1,\n",
              "         'faculty': 1,\n",
              "         'familiar': 1,\n",
              "         'for': 1,\n",
              "         'it': 1,\n",
              "         'musco': 1,\n",
              "         'of': 1,\n",
              "         'on': 1,\n",
              "         'president': 1,\n",
              "         's': 1,\n",
              "         'sight': 1,\n",
              "         'staff': 1,\n",
              "         'stage': 1,\n",
              "         'standing': 1,\n",
              "         'struppa': 1,\n",
              "         'supporters': 1,\n",
              "         'the': 2,\n",
              "         'university': 2,\n",
              "         '’': 1})"
            ]
          },
          "metadata": {
            "tags": []
          },
          "execution_count": 104
        }
      ]
    },
    {
      "cell_type": "code",
      "metadata": {
        "colab": {
          "base_uri": "https://localhost:8080/"
        },
        "id": "0-9LVLZR-utk",
        "outputId": "44b83794-ae13-40cd-f203-4b816ecccce9"
      },
      "source": [
        "bag_of_words_2"
      ],
      "execution_count": null,
      "outputs": [
        {
          "output_type": "execute_result",
          "data": {
            "text/plain": [
              "Counter({'.': 1,\n",
              "         'address': 1,\n",
              "         'audience': 1,\n",
              "         'been': 1,\n",
              "         'case': 1,\n",
              "         'different': 1,\n",
              "         'events': 1,\n",
              "         'everyone': 1,\n",
              "         'for': 1,\n",
              "         'from': 1,\n",
              "         'has': 1,\n",
              "         'home': 1,\n",
              "         'in': 1,\n",
              "         'most': 1,\n",
              "         'that': 1,\n",
              "         'the': 3,\n",
              "         'this': 2,\n",
              "         'viewing': 1,\n",
              "         'was': 2,\n",
              "         'what': 1,\n",
              "         'year': 2,\n",
              "         '—as': 1,\n",
              "         '—was': 1})"
            ]
          },
          "metadata": {
            "tags": []
          },
          "execution_count": 105
        }
      ]
    },
    {
      "cell_type": "markdown",
      "metadata": {
        "id": "bfI-gk13skJ2"
      },
      "source": [
        "\n",
        "2. Compute the TF (Term Frequency) of each word of these 2 documents using only the count of the words in that document.\n",
        "\n",
        "\n"
      ]
    },
    {
      "cell_type": "code",
      "metadata": {
        "id": "1AyT9SvhkVru",
        "colab": {
          "base_uri": "https://localhost:8080/",
          "height": 164
        },
        "outputId": "7433bbe7-2114-4290-8a6e-3f78298e85e1"
      },
      "source": [
        "blobTotal = TextBlob(textTotal)\n"
      ],
      "execution_count": null,
      "outputs": [
        {
          "output_type": "error",
          "ename": "NameError",
          "evalue": "ignored",
          "traceback": [
            "\u001b[0;31m---------------------------------------------------------------------------\u001b[0m",
            "\u001b[0;31mNameError\u001b[0m                                 Traceback (most recent call last)",
            "\u001b[0;32m<ipython-input-1-f7bc11ec1a3b>\u001b[0m in \u001b[0;36m<module>\u001b[0;34m()\u001b[0m\n\u001b[0;32m----> 1\u001b[0;31m \u001b[0mblobTotal\u001b[0m \u001b[0;34m=\u001b[0m \u001b[0mTextBlob\u001b[0m\u001b[0;34m(\u001b[0m\u001b[0mtextTotal\u001b[0m\u001b[0;34m)\u001b[0m\u001b[0;34m\u001b[0m\u001b[0;34m\u001b[0m\u001b[0m\n\u001b[0m",
            "\u001b[0;31mNameError\u001b[0m: name 'TextBlob' is not defined"
          ]
        }
      ]
    },
    {
      "cell_type": "code",
      "metadata": {
        "id": "8Pyh5b16FynS"
      },
      "source": [
        "lexicon = set(bag_of_words_1).union(set(bag_of_words_2))\n",
        "count_words1 = dict.fromkeys(lexicon, 0)"
      ],
      "execution_count": null,
      "outputs": []
    },
    {
      "cell_type": "code",
      "metadata": {
        "colab": {
          "base_uri": "https://localhost:8080/",
          "height": 1000
        },
        "id": "jpjJ1436-kmW",
        "outputId": "6c55c1c4-0414-465f-ae11-003be56442b3"
      },
      "source": [
        "\n",
        "bag_of_words_1 = document_1.split(' ')\n",
        "bag_of_words_2 = document_2.split(' ')\n",
        "def count_words(bag_of_words, count_words, lexicon):\n",
        "  num_words = dict.fromkeys(lexicon, 0)\n",
        "  for word in bag_of_words:\n",
        "    num_words[word] += 1\n",
        "  return num_words\n",
        "doc_sorted_1 = sorted(count_words(bag_of_words_1, count_words, lexicon).items(), key = lambda x :x[0])\n",
        "doc_sorted_2 = sorted(count_words(bag_of_words_2, count_words, lexicon).items(), key = lambda x :x[0])\n",
        "df_1 = pd.DataFrame(doc_sorted_1, columns= ['word', 'frequency 1'])\n",
        "\n",
        "df_2 = pd.DataFrame(doc_sorted_2, columns= ['word', 'frequency 2'])\n",
        "df_12 = pd.merge(df_1, df_2, on= 'word')\n",
        "df_12\n"
      ],
      "execution_count": null,
      "outputs": [
        {
          "output_type": "execute_result",
          "data": {
            "text/html": [
              "<div>\n",
              "<style scoped>\n",
              "    .dataframe tbody tr th:only-of-type {\n",
              "        vertical-align: middle;\n",
              "    }\n",
              "\n",
              "    .dataframe tbody tr th {\n",
              "        vertical-align: top;\n",
              "    }\n",
              "\n",
              "    .dataframe thead th {\n",
              "        text-align: right;\n",
              "    }\n",
              "</style>\n",
              "<table border=\"1\" class=\"dataframe\">\n",
              "  <thead>\n",
              "    <tr style=\"text-align: right;\">\n",
              "      <th></th>\n",
              "      <th>word</th>\n",
              "      <th>frequency 1</th>\n",
              "      <th>frequency 2</th>\n",
              "    </tr>\n",
              "  </thead>\n",
              "  <tbody>\n",
              "    <tr>\n",
              "      <th>0</th>\n",
              "      <td>Center,</td>\n",
              "      <td>1</td>\n",
              "      <td>0</td>\n",
              "    </tr>\n",
              "    <tr>\n",
              "      <th>1</th>\n",
              "      <td>Chapman</td>\n",
              "      <td>1</td>\n",
              "      <td>0</td>\n",
              "    </tr>\n",
              "    <tr>\n",
              "      <th>2</th>\n",
              "      <td>Daniele</td>\n",
              "      <td>1</td>\n",
              "      <td>0</td>\n",
              "    </tr>\n",
              "    <tr>\n",
              "      <th>3</th>\n",
              "      <td>It’s</td>\n",
              "      <td>1</td>\n",
              "      <td>0</td>\n",
              "    </tr>\n",
              "    <tr>\n",
              "      <th>4</th>\n",
              "      <td>Musco</td>\n",
              "      <td>1</td>\n",
              "      <td>0</td>\n",
              "    </tr>\n",
              "    <tr>\n",
              "      <th>5</th>\n",
              "      <td>President</td>\n",
              "      <td>1</td>\n",
              "      <td>0</td>\n",
              "    </tr>\n",
              "    <tr>\n",
              "      <th>6</th>\n",
              "      <td>Struppa</td>\n",
              "      <td>1</td>\n",
              "      <td>0</td>\n",
              "    </tr>\n",
              "    <tr>\n",
              "      <th>7</th>\n",
              "      <td>What</td>\n",
              "      <td>0</td>\n",
              "      <td>1</td>\n",
              "    </tr>\n",
              "    <tr>\n",
              "      <th>8</th>\n",
              "      <td>a</td>\n",
              "      <td>2</td>\n",
              "      <td>0</td>\n",
              "    </tr>\n",
              "    <tr>\n",
              "      <th>9</th>\n",
              "      <td>address</td>\n",
              "      <td>0</td>\n",
              "      <td>1</td>\n",
              "    </tr>\n",
              "    <tr>\n",
              "      <th>10</th>\n",
              "      <td>addressing</td>\n",
              "      <td>1</td>\n",
              "      <td>0</td>\n",
              "    </tr>\n",
              "    <tr>\n",
              "      <th>11</th>\n",
              "      <td>and</td>\n",
              "      <td>1</td>\n",
              "      <td>0</td>\n",
              "    </tr>\n",
              "    <tr>\n",
              "      <th>12</th>\n",
              "      <td>at</td>\n",
              "      <td>1</td>\n",
              "      <td>0</td>\n",
              "    </tr>\n",
              "    <tr>\n",
              "      <th>13</th>\n",
              "      <td>audience</td>\n",
              "      <td>1</td>\n",
              "      <td>1</td>\n",
              "    </tr>\n",
              "    <tr>\n",
              "      <th>14</th>\n",
              "      <td>become</td>\n",
              "      <td>1</td>\n",
              "      <td>0</td>\n",
              "    </tr>\n",
              "    <tr>\n",
              "      <th>15</th>\n",
              "      <td>been</td>\n",
              "      <td>0</td>\n",
              "      <td>1</td>\n",
              "    </tr>\n",
              "    <tr>\n",
              "      <th>16</th>\n",
              "      <td>case</td>\n",
              "      <td>0</td>\n",
              "      <td>1</td>\n",
              "    </tr>\n",
              "    <tr>\n",
              "      <th>17</th>\n",
              "      <td>combined</td>\n",
              "      <td>1</td>\n",
              "      <td>0</td>\n",
              "    </tr>\n",
              "    <tr>\n",
              "      <th>18</th>\n",
              "      <td>community:</td>\n",
              "      <td>1</td>\n",
              "      <td>0</td>\n",
              "    </tr>\n",
              "    <tr>\n",
              "      <th>19</th>\n",
              "      <td>different</td>\n",
              "      <td>0</td>\n",
              "      <td>1</td>\n",
              "    </tr>\n",
              "    <tr>\n",
              "      <th>20</th>\n",
              "      <td>events</td>\n",
              "      <td>0</td>\n",
              "      <td>1</td>\n",
              "    </tr>\n",
              "    <tr>\n",
              "      <th>21</th>\n",
              "      <td>everyone</td>\n",
              "      <td>0</td>\n",
              "      <td>1</td>\n",
              "    </tr>\n",
              "    <tr>\n",
              "      <th>22</th>\n",
              "      <td>faculty,</td>\n",
              "      <td>1</td>\n",
              "      <td>0</td>\n",
              "    </tr>\n",
              "    <tr>\n",
              "      <th>23</th>\n",
              "      <td>familiar</td>\n",
              "      <td>1</td>\n",
              "      <td>0</td>\n",
              "    </tr>\n",
              "    <tr>\n",
              "      <th>24</th>\n",
              "      <td>for</td>\n",
              "      <td>1</td>\n",
              "      <td>1</td>\n",
              "    </tr>\n",
              "    <tr>\n",
              "      <th>25</th>\n",
              "      <td>from</td>\n",
              "      <td>0</td>\n",
              "      <td>1</td>\n",
              "    </tr>\n",
              "    <tr>\n",
              "      <th>26</th>\n",
              "      <td>has</td>\n",
              "      <td>0</td>\n",
              "      <td>1</td>\n",
              "    </tr>\n",
              "    <tr>\n",
              "      <th>27</th>\n",
              "      <td>home.</td>\n",
              "      <td>0</td>\n",
              "      <td>1</td>\n",
              "    </tr>\n",
              "    <tr>\n",
              "      <th>28</th>\n",
              "      <td>in</td>\n",
              "      <td>0</td>\n",
              "      <td>1</td>\n",
              "    </tr>\n",
              "    <tr>\n",
              "      <th>29</th>\n",
              "      <td>most</td>\n",
              "      <td>0</td>\n",
              "      <td>1</td>\n",
              "    </tr>\n",
              "    <tr>\n",
              "      <th>30</th>\n",
              "      <td>of</td>\n",
              "      <td>1</td>\n",
              "      <td>0</td>\n",
              "    </tr>\n",
              "    <tr>\n",
              "      <th>31</th>\n",
              "      <td>on</td>\n",
              "      <td>1</td>\n",
              "      <td>0</td>\n",
              "    </tr>\n",
              "    <tr>\n",
              "      <th>32</th>\n",
              "      <td>sight</td>\n",
              "      <td>1</td>\n",
              "      <td>0</td>\n",
              "    </tr>\n",
              "    <tr>\n",
              "      <th>33</th>\n",
              "      <td>staff</td>\n",
              "      <td>1</td>\n",
              "      <td>0</td>\n",
              "    </tr>\n",
              "    <tr>\n",
              "      <th>34</th>\n",
              "      <td>stage</td>\n",
              "      <td>1</td>\n",
              "      <td>0</td>\n",
              "    </tr>\n",
              "    <tr>\n",
              "      <th>35</th>\n",
              "      <td>standing</td>\n",
              "      <td>1</td>\n",
              "      <td>0</td>\n",
              "    </tr>\n",
              "    <tr>\n",
              "      <th>36</th>\n",
              "      <td>supporters.</td>\n",
              "      <td>1</td>\n",
              "      <td>0</td>\n",
              "    </tr>\n",
              "    <tr>\n",
              "      <th>37</th>\n",
              "      <td>that</td>\n",
              "      <td>0</td>\n",
              "      <td>1</td>\n",
              "    </tr>\n",
              "    <tr>\n",
              "      <th>38</th>\n",
              "      <td>the</td>\n",
              "      <td>2</td>\n",
              "      <td>3</td>\n",
              "    </tr>\n",
              "    <tr>\n",
              "      <th>39</th>\n",
              "      <td>this</td>\n",
              "      <td>0</td>\n",
              "      <td>2</td>\n",
              "    </tr>\n",
              "    <tr>\n",
              "      <th>40</th>\n",
              "      <td>university</td>\n",
              "      <td>2</td>\n",
              "      <td>0</td>\n",
              "    </tr>\n",
              "    <tr>\n",
              "      <th>41</th>\n",
              "      <td>viewing</td>\n",
              "      <td>0</td>\n",
              "      <td>1</td>\n",
              "    </tr>\n",
              "    <tr>\n",
              "      <th>42</th>\n",
              "      <td>was</td>\n",
              "      <td>0</td>\n",
              "      <td>2</td>\n",
              "    </tr>\n",
              "    <tr>\n",
              "      <th>43</th>\n",
              "      <td>year</td>\n",
              "      <td>0</td>\n",
              "      <td>2</td>\n",
              "    </tr>\n",
              "    <tr>\n",
              "      <th>44</th>\n",
              "      <td>—as</td>\n",
              "      <td>0</td>\n",
              "      <td>1</td>\n",
              "    </tr>\n",
              "    <tr>\n",
              "      <th>45</th>\n",
              "      <td>—was</td>\n",
              "      <td>0</td>\n",
              "      <td>1</td>\n",
              "    </tr>\n",
              "  </tbody>\n",
              "</table>\n",
              "</div>"
            ],
            "text/plain": [
              "           word  frequency 1  frequency 2\n",
              "0       Center,            1            0\n",
              "1       Chapman            1            0\n",
              "2       Daniele            1            0\n",
              "3          It’s            1            0\n",
              "4         Musco            1            0\n",
              "5     President            1            0\n",
              "6       Struppa            1            0\n",
              "7          What            0            1\n",
              "8             a            2            0\n",
              "9       address            0            1\n",
              "10   addressing            1            0\n",
              "11          and            1            0\n",
              "12           at            1            0\n",
              "13     audience            1            1\n",
              "14       become            1            0\n",
              "15         been            0            1\n",
              "16         case            0            1\n",
              "17     combined            1            0\n",
              "18   community:            1            0\n",
              "19    different            0            1\n",
              "20       events            0            1\n",
              "21     everyone            0            1\n",
              "22     faculty,            1            0\n",
              "23     familiar            1            0\n",
              "24          for            1            1\n",
              "25         from            0            1\n",
              "26          has            0            1\n",
              "27        home.            0            1\n",
              "28           in            0            1\n",
              "29         most            0            1\n",
              "30           of            1            0\n",
              "31           on            1            0\n",
              "32        sight            1            0\n",
              "33        staff            1            0\n",
              "34        stage            1            0\n",
              "35     standing            1            0\n",
              "36  supporters.            1            0\n",
              "37         that            0            1\n",
              "38          the            2            3\n",
              "39         this            0            2\n",
              "40   university            2            0\n",
              "41      viewing            0            1\n",
              "42          was            0            2\n",
              "43         year            0            2\n",
              "44          —as            0            1\n",
              "45         —was            0            1"
            ]
          },
          "metadata": {
            "tags": []
          },
          "execution_count": 152
        }
      ]
    },
    {
      "cell_type": "code",
      "metadata": {
        "id": "LYwayzPl_743"
      },
      "source": [
        "def compute_TF(word_dict, bag_of_words):\n",
        "  tf_dict = {}\n",
        "  bag_of_words_count = len(bag_of_words)\n",
        "  for word, count in word_dict.items():\n",
        "    tf_dict[word] = count / float(bag_of_words_count)\n",
        "  return tf_dict"
      ],
      "execution_count": null,
      "outputs": []
    },
    {
      "cell_type": "code",
      "metadata": {
        "colab": {
          "base_uri": "https://localhost:8080/",
          "height": 334
        },
        "id": "cnsIbKSlA_Im",
        "outputId": "15a484f9-48e2-42bf-fcb2-2783c4d3af21"
      },
      "source": [
        "tf_1 = compute_TF(count_words1, bag_of_words_1)\n",
        "tf1_sorted = sorted(tf_1.items(), key = lambda x : x[0])\n",
        "df_tf1 = pd.DataFrame(tf1_sorted, columns=['Word', 'tf'])\n",
        "print(df_tf1)"
      ],
      "execution_count": null,
      "outputs": [
        {
          "output_type": "error",
          "ename": "AttributeError",
          "evalue": "ignored",
          "traceback": [
            "\u001b[0;31m---------------------------------------------------------------------------\u001b[0m",
            "\u001b[0;31mAttributeError\u001b[0m                            Traceback (most recent call last)",
            "\u001b[0;32m<ipython-input-131-95be5e394a1d>\u001b[0m in \u001b[0;36m<module>\u001b[0;34m()\u001b[0m\n\u001b[0;32m----> 1\u001b[0;31m \u001b[0mtf_1\u001b[0m \u001b[0;34m=\u001b[0m \u001b[0mcompute_TF\u001b[0m\u001b[0;34m(\u001b[0m\u001b[0mlen\u001b[0m\u001b[0;34m(\u001b[0m\u001b[0mbag_of_words_1\u001b[0m\u001b[0;34m)\u001b[0m\u001b[0;34m,\u001b[0m \u001b[0mbag_of_words_1\u001b[0m\u001b[0;34m)\u001b[0m\u001b[0;34m\u001b[0m\u001b[0;34m\u001b[0m\u001b[0m\n\u001b[0m\u001b[1;32m      2\u001b[0m \u001b[0mtf1_sorted\u001b[0m \u001b[0;34m=\u001b[0m \u001b[0msorted\u001b[0m\u001b[0;34m(\u001b[0m\u001b[0mtf_1\u001b[0m\u001b[0;34m.\u001b[0m\u001b[0mitems\u001b[0m\u001b[0;34m(\u001b[0m\u001b[0;34m)\u001b[0m\u001b[0;34m,\u001b[0m \u001b[0mkey\u001b[0m \u001b[0;34m=\u001b[0m \u001b[0;32mlambda\u001b[0m \u001b[0mx\u001b[0m \u001b[0;34m:\u001b[0m \u001b[0mx\u001b[0m\u001b[0;34m[\u001b[0m\u001b[0;36m0\u001b[0m\u001b[0;34m]\u001b[0m\u001b[0;34m)\u001b[0m\u001b[0;34m\u001b[0m\u001b[0;34m\u001b[0m\u001b[0m\n\u001b[1;32m      3\u001b[0m \u001b[0mdf_tf1\u001b[0m \u001b[0;34m=\u001b[0m \u001b[0mpd\u001b[0m\u001b[0;34m.\u001b[0m\u001b[0mDataFrame\u001b[0m\u001b[0;34m(\u001b[0m\u001b[0mtf1_sorted\u001b[0m\u001b[0;34m,\u001b[0m \u001b[0mcolumns\u001b[0m\u001b[0;34m=\u001b[0m\u001b[0;34m[\u001b[0m\u001b[0;34m'Word'\u001b[0m\u001b[0;34m,\u001b[0m \u001b[0;34m'tf'\u001b[0m\u001b[0;34m]\u001b[0m\u001b[0;34m)\u001b[0m\u001b[0;34m\u001b[0m\u001b[0;34m\u001b[0m\u001b[0m\n\u001b[1;32m      4\u001b[0m \u001b[0mprint\u001b[0m\u001b[0;34m(\u001b[0m\u001b[0mdf_tf1\u001b[0m\u001b[0;34m)\u001b[0m\u001b[0;34m\u001b[0m\u001b[0;34m\u001b[0m\u001b[0m\n",
            "\u001b[0;32m<ipython-input-118-617819a5c027>\u001b[0m in \u001b[0;36mcompute_TF\u001b[0;34m(word_dict, bag_of_words)\u001b[0m\n\u001b[1;32m      3\u001b[0m   \u001b[0mtf_dict\u001b[0m \u001b[0;34m=\u001b[0m \u001b[0;34m{\u001b[0m\u001b[0;34m}\u001b[0m\u001b[0;34m\u001b[0m\u001b[0;34m\u001b[0m\u001b[0m\n\u001b[1;32m      4\u001b[0m   \u001b[0mbag_of_words_count\u001b[0m \u001b[0;34m=\u001b[0m \u001b[0mlen\u001b[0m\u001b[0;34m(\u001b[0m\u001b[0mbag_of_words\u001b[0m\u001b[0;34m)\u001b[0m\u001b[0;34m\u001b[0m\u001b[0;34m\u001b[0m\u001b[0m\n\u001b[0;32m----> 5\u001b[0;31m   \u001b[0;32mfor\u001b[0m \u001b[0mword\u001b[0m\u001b[0;34m,\u001b[0m \u001b[0mcount\u001b[0m \u001b[0;32min\u001b[0m \u001b[0mword_dict\u001b[0m\u001b[0;34m.\u001b[0m\u001b[0mitems\u001b[0m\u001b[0;34m(\u001b[0m\u001b[0;34m)\u001b[0m\u001b[0;34m:\u001b[0m\u001b[0;34m\u001b[0m\u001b[0;34m\u001b[0m\u001b[0m\n\u001b[0m\u001b[1;32m      6\u001b[0m     \u001b[0mtf_dict\u001b[0m\u001b[0;34m[\u001b[0m\u001b[0mword\u001b[0m\u001b[0;34m]\u001b[0m \u001b[0;34m=\u001b[0m \u001b[0mcount\u001b[0m \u001b[0;34m/\u001b[0m \u001b[0mfloat\u001b[0m\u001b[0;34m(\u001b[0m\u001b[0mbag_of_words_count\u001b[0m\u001b[0;34m)\u001b[0m\u001b[0;34m\u001b[0m\u001b[0;34m\u001b[0m\u001b[0m\n\u001b[1;32m      7\u001b[0m   \u001b[0;32mreturn\u001b[0m \u001b[0mtf_dict\u001b[0m\u001b[0;34m\u001b[0m\u001b[0;34m\u001b[0m\u001b[0m\n",
            "\u001b[0;31mAttributeError\u001b[0m: 'int' object has no attribute 'items'"
          ]
        }
      ]
    },
    {
      "cell_type": "code",
      "metadata": {
        "colab": {
          "base_uri": "https://localhost:8080/",
          "height": 215
        },
        "id": "bmgk1S-LCXJu",
        "outputId": "6c6fcb2e-bfc5-40bc-af97-6e6ee449cd84"
      },
      "source": [
        "tf_2 = compute_TF(count_words2, bag_of_words_2)\n",
        "tf2_sorted = sorted(tf_2.items(), key = lambda x : x[0])\n",
        "df_tf2 = pd.DataFrame(tf2_sorted, columns=['Word', 'tf'])\n",
        "print(df_tf2)"
      ],
      "execution_count": null,
      "outputs": [
        {
          "output_type": "error",
          "ename": "NameError",
          "evalue": "ignored",
          "traceback": [
            "\u001b[0;31m---------------------------------------------------------------------------\u001b[0m",
            "\u001b[0;31mNameError\u001b[0m                                 Traceback (most recent call last)",
            "\u001b[0;32m<ipython-input-122-bf626c5a992a>\u001b[0m in \u001b[0;36m<module>\u001b[0;34m()\u001b[0m\n\u001b[0;32m----> 1\u001b[0;31m \u001b[0mtf_2\u001b[0m \u001b[0;34m=\u001b[0m \u001b[0mcompute_TF\u001b[0m\u001b[0;34m(\u001b[0m\u001b[0mcount_words2\u001b[0m\u001b[0;34m,\u001b[0m \u001b[0mbag_of_words_2\u001b[0m\u001b[0;34m)\u001b[0m\u001b[0;34m\u001b[0m\u001b[0;34m\u001b[0m\u001b[0m\n\u001b[0m\u001b[1;32m      2\u001b[0m \u001b[0mtf2_sorted\u001b[0m \u001b[0;34m=\u001b[0m \u001b[0msorted\u001b[0m\u001b[0;34m(\u001b[0m\u001b[0mtf_2\u001b[0m\u001b[0;34m.\u001b[0m\u001b[0mitems\u001b[0m\u001b[0;34m(\u001b[0m\u001b[0;34m)\u001b[0m\u001b[0;34m,\u001b[0m \u001b[0mkey\u001b[0m \u001b[0;34m=\u001b[0m \u001b[0;32mlambda\u001b[0m \u001b[0mx\u001b[0m \u001b[0;34m:\u001b[0m \u001b[0mx\u001b[0m\u001b[0;34m[\u001b[0m\u001b[0;36m0\u001b[0m\u001b[0;34m]\u001b[0m\u001b[0;34m)\u001b[0m\u001b[0;34m\u001b[0m\u001b[0;34m\u001b[0m\u001b[0m\n\u001b[1;32m      3\u001b[0m \u001b[0mdf_tf2\u001b[0m \u001b[0;34m=\u001b[0m \u001b[0mpd\u001b[0m\u001b[0;34m.\u001b[0m\u001b[0mDataFrame\u001b[0m\u001b[0;34m(\u001b[0m\u001b[0mtf2_sorted\u001b[0m\u001b[0;34m,\u001b[0m \u001b[0mcolumns\u001b[0m\u001b[0;34m=\u001b[0m\u001b[0;34m[\u001b[0m\u001b[0;34m'Word'\u001b[0m\u001b[0;34m,\u001b[0m \u001b[0;34m'tf'\u001b[0m\u001b[0;34m]\u001b[0m\u001b[0;34m)\u001b[0m\u001b[0;34m\u001b[0m\u001b[0;34m\u001b[0m\u001b[0m\n\u001b[1;32m      4\u001b[0m \u001b[0mprint\u001b[0m\u001b[0;34m(\u001b[0m\u001b[0mdf_tf2\u001b[0m\u001b[0;34m)\u001b[0m\u001b[0;34m\u001b[0m\u001b[0;34m\u001b[0m\u001b[0m\n",
            "\u001b[0;31mNameError\u001b[0m: name 'count_words2' is not defined"
          ]
        }
      ]
    },
    {
      "cell_type": "markdown",
      "metadata": {
        "id": "v32aPcAOskMg"
      },
      "source": [
        "3. Build a Lexicon (set of all words) of these 2 documents.  Compute the TF (Term Frequency) of each word of these 2 documents using the count of the words in the Lexicon."
      ]
    },
    {
      "cell_type": "code",
      "metadata": {
        "id": "TJg4x_BS9iEI"
      },
      "source": [
        "\n"
      ],
      "execution_count": null,
      "outputs": []
    },
    {
      "cell_type": "code",
      "metadata": {
        "colab": {
          "base_uri": "https://localhost:8080/"
        },
        "id": "aqKHrLrn-x2X",
        "outputId": "08a7f67c-4c6d-4022-93b7-0921b49f05a8"
      },
      "source": [
        "for word in bag_of_words_1:\n",
        "  count_words1[word] += 1\n",
        "print(\"Num words in Document 1:\")\n",
        "print(count_words1)"
      ],
      "execution_count": null,
      "outputs": [
        {
          "output_type": "stream",
          "text": [
            "Num words in Document 1:\n",
            "{'on': 1, 'President': 1, 'stage': 1, 'a': 2, 'Struppa': 1, 'different': 0, 'faculty,': 1, 'case': 0, 'Chapman': 1, 'from': 0, 'Daniele': 1, 'address': 0, '—as': 0, 'for': 1, 'staff': 1, 'addressing': 1, 'combined': 1, 'Center,': 1, 'and': 1, 'audience': 1, 'year': 0, 'in': 0, 'everyone': 0, 'has': 0, 'university': 2, 'at': 1, 'events': 0, 'most': 0, 'viewing': 0, 'that': 0, 'home.': 0, 'sight': 1, 'Musco': 1, 'What': 0, 'community:': 1, 'become': 1, 'was': 0, 'been': 0, '—was': 0, 'familiar': 1, 'standing': 1, 'It’s': 1, 'the': 2, 'supporters.': 1, 'this': 0, 'of': 1}\n"
          ],
          "name": "stdout"
        }
      ]
    },
    {
      "cell_type": "code",
      "metadata": {
        "colab": {
          "base_uri": "https://localhost:8080/"
        },
        "id": "-POjrypl_FR_",
        "outputId": "39ecd6f8-a2cc-489d-8152-019de6bd3dcb"
      },
      "source": [
        "count_words2 = dict.fromkeys(lexicon, 0)\n",
        "for word in bag_of_words_2:\n",
        "  count_words2[word] += 1\n",
        "print(\"Num words in Document 2:\")\n",
        "print(count_words2)"
      ],
      "execution_count": null,
      "outputs": [
        {
          "output_type": "stream",
          "text": [
            "Num words in Document 2:\n",
            "{'on': 0, 'President': 0, 'stage': 0, 'a': 0, 'Struppa': 0, 'different': 1, 'faculty,': 0, 'case': 1, 'Chapman': 0, 'from': 1, 'Daniele': 0, 'address': 1, '—as': 1, 'for': 1, 'staff': 0, 'addressing': 0, 'combined': 0, 'Center,': 0, 'and': 0, 'audience': 1, 'year': 2, 'in': 1, 'everyone': 1, 'has': 1, 'university': 0, 'at': 0, 'events': 1, 'most': 1, 'viewing': 1, 'that': 1, 'home.': 1, 'sight': 0, 'Musco': 0, 'What': 1, 'community:': 0, 'become': 0, 'was': 2, 'been': 1, '—was': 1, 'familiar': 0, 'standing': 0, 'It’s': 0, 'the': 3, 'supporters.': 0, 'this': 2, 'of': 0}\n"
          ],
          "name": "stdout"
        }
      ]
    },
    {
      "cell_type": "markdown",
      "metadata": {
        "id": "7SVSM7kDskPN"
      },
      "source": [
        "####**Problem 4**"
      ]
    },
    {
      "cell_type": "code",
      "metadata": {
        "id": "WJF88Ja7qnpF"
      },
      "source": [
        "text_total_romeo = open('/RomeoJuliet.txt').read()\n",
        "blob_total_romeo = TextBlob(text_total_romeo)\n",
        "text_total_hamlet = open('/Hamlet.txt').read()\n",
        "blob_total_hamlet = TextBlob(text_total_hamlet)\n",
        "puncs = set((',', '.', '--', '-', '?', ';', ':', \"''\", '``', '(', ')', '[', ']'))"
      ],
      "execution_count": null,
      "outputs": []
    },
    {
      "cell_type": "code",
      "metadata": {
        "colab": {
          "base_uri": "https://localhost:8080/",
          "height": 295
        },
        "id": "h3Q-xxOI0UK-",
        "outputId": "560fb05b-9733-4a57-948b-47262714d2ab"
      },
      "source": [
        "word_list_romeo = (x.lower() for x in blob_total_romeo.words if x not in puncs and '_' not in x and ' ' not in x)\n",
        "word_list_hamlet = (x.lower() for x in blob_total_hamlet.words if x not in puncs and '_' not in x and ' ' not in x)\n",
        "token_counts_romeo = Counter(word_list_romeo)\n",
        "token_counts_hamlet = Counter(word_list_hamlet)\n",
        "\n",
        "sorted_token_counts_romeo = OrderedDict(sorted(token_counts_romeo.items(), key = lambda kv : kv[1], reverse = True))\n",
        "sorted_token_counts_hamlet= OrderedDict(sorted(token_counts_hamlet.items(), key = lambda kv : kv[1], reverse = True))\n",
        "\n",
        "freq_vector_romeo = np.array(list(sorted_token_counts_romeo.values()))\n",
        "freq_vector_hamlet = np.array(list(sorted_token_counts_hamlet.values()))\n",
        "\n",
        "plt.plot(np.log10(np.arange(1, len(sorted_token_counts_hamlet)+1)), np.log10(freq_vector_hamlet))\n",
        "\n",
        "plt.plot(np.log10(np.arange(1, len(sorted_token_counts_romeo)+1)), np.log10(freq_vector_romeo))\n",
        "plt.xlabel('log of rank')\n",
        "plt.ylabel('log of frequency')\n",
        "plt.title(\"Zipf's Law\")\n",
        "plt.legend([ 'hamlet', 'freq_vector_romeo'])"
      ],
      "execution_count": null,
      "outputs": [
        {
          "output_type": "display_data",
          "data": {
            "image/png": "[encoded data removed]",
            "text/plain": [
              "<Figure size 432x288 with 1 Axes>"
            ]
          },
          "metadata": {
            "tags": [],
            "needs_background": "light"
          }
        }
      ]
    },
    {
      "cell_type": "code",
      "metadata": {
        "id": "Ej3eFOvKAK1s"
      },
      "source": [
        ""
      ],
      "execution_count": null,
      "outputs": []
    }
  ]
}