{
  "nbformat": 4,
  "nbformat_minor": 0,
  "metadata": {
    "colab": {
      "name": "TF-IDF + Eigen Vectors + Singular Value Decomposition.ipynb",
      "provenance": []
    },
    "kernelspec": {
      "name": "python3",
      "display_name": "Python 3"
    },
    "language_info": {
      "name": "python"
    }
  },
  "cells": [
    {
      "cell_type": "code",
      "metadata": {
        "id": "5Z-biXs9V1BR"
      },
      "source": [
        "import numpy as np\n",
        "import pandas as pd\n",
        "from scipy import linalg as lg \n",
        "from scipy.linalg import svd\n",
        "from sklearn.feature_extraction.text import CountVectorizer\n",
        "from sklearn.decomposition import TruncatedSVD\n",
        "import matplotlib.pyplot as plt\n"
      ],
      "execution_count": null,
      "outputs": []
    },
    {
      "cell_type": "markdown",
      "metadata": {
        "id": "feyuWip3UpaS"
      },
      "source": [
        "# **Assignment 8**: TF-IDF + Eigen Vectors + Singular Value Decomposition\n",
        "#### Emily Daskas"
      ]
    },
    {
      "cell_type": "markdown",
      "metadata": {
        "id": "kn1hAe60U1Ux"
      },
      "source": [
        "## Problem 1\n",
        "\n",
        "Compute the SVD (Singular Value Decomposition) (3 separate matrices U,Sigma,V) of the following 2 rectangular matrices.\n",
        "\n",
        "1. [[3 1 1] [−1 3 1]]\n",
        "\n",
        "2. [[1 1 0] [1 −1 1]]\n",
        "\n",
        "Verify that by multiplying (Matrix multiplication) the 3 SVD matrices will result in the original matrix."
      ]
    },
    {
      "cell_type": "code",
      "metadata": {
        "id": "0duYQEMNUliJ"
      },
      "source": [
        "matrix_1 = np.array([[3,1,1],[-1,3,1]])\n",
        "matrix_2 = np.array([[1,1,0],[1,-1,1]])"
      ],
      "execution_count": null,
      "outputs": []
    },
    {
      "cell_type": "code",
      "metadata": {
        "id": "VGZSaWogWc3g"
      },
      "source": [
        "def recreate_matrix(V, sigma, UStar):\n",
        "  sigma_matrix = np.diag(sigma)\n",
        "\n",
        "  sigma_matrix_extended = extended_sigma_matrix(sigma)\n",
        "  \n",
        "  z = np.zeros((1,2))\n",
        "  r = np.dot(V, sigma_matrix_extended)\n",
        "  r_extended = np.hstack((r, np.zeros((2,1))))\n",
        "\n",
        "  recreated = np.dot(r_extended, UStar)\n",
        "  \n",
        "  return recreated"
      ],
      "execution_count": null,
      "outputs": []
    },
    {
      "cell_type": "markdown",
      "metadata": {
        "id": "8hU_Lwd5W-JR"
      },
      "source": [
        "**1. [[3 1 1] [−1 3 1]]**"
      ]
    },
    {
      "cell_type": "code",
      "metadata": {
        "colab": {
          "base_uri": "https://localhost:8080/"
        },
        "id": "ChgoE5LKVypJ",
        "outputId": "a48d95ca-8fe7-4bd9-d88c-adc8c47a1dc6"
      },
      "source": [
        "V, sigma, UStar = svd(matrix_1)\n",
        "print(V, \"\\n\\n\", sigma, \"\\n\\n\", UStar)"
      ],
      "execution_count": null,
      "outputs": [
        {
          "output_type": "stream",
          "text": [
            "[[-0.70710678 -0.70710678]\n",
            " [-0.70710678  0.70710678]] \n",
            "\n",
            " [3.46410162 3.16227766] \n",
            "\n",
            " [[-0.40824829 -0.81649658 -0.40824829]\n",
            " [-0.89442719  0.4472136   0.        ]\n",
            " [-0.18257419 -0.36514837  0.91287093]]\n"
          ],
          "name": "stdout"
        }
      ]
    },
    {
      "cell_type": "code",
      "metadata": {
        "colab": {
          "base_uri": "https://localhost:8080/"
        },
        "id": "GCq4678uX05n",
        "outputId": "272839a0-7288-4da0-f3ad-d1e4f0617f71"
      },
      "source": [
        "print(\"Recreated Matrix:\\n\", recreate_matrix(V, sigma, UStar))\n",
        "print()\n",
        "print(\"Original Matrix:\\n\", matrix_1)"
      ],
      "execution_count": null,
      "outputs": [
        {
          "output_type": "stream",
          "text": [
            "Recreated Matrix:\n",
            " [[ 3.  1.  1.]\n",
            " [-1.  3.  1.]]\n",
            "\n",
            "Original Matrix:\n",
            " [[ 3  1  1]\n",
            " [-1  3  1]]\n"
          ],
          "name": "stdout"
        }
      ]
    },
    {
      "cell_type": "markdown",
      "metadata": {
        "id": "KPRWSVRAXBtr"
      },
      "source": [
        "**2. [[1 1 0] [1 −1 1]]**"
      ]
    },
    {
      "cell_type": "code",
      "metadata": {
        "colab": {
          "base_uri": "https://localhost:8080/"
        },
        "id": "SbY_AIePXGaA",
        "outputId": "e500465e-fef5-4765-c4a9-aea93a5f627d"
      },
      "source": [
        "V, sigma, UStar = svd(matrix_2)\n",
        "print(V, \"\\n\\n\", sigma, \"\\n\\n\", UStar)"
      ],
      "execution_count": null,
      "outputs": [
        {
          "output_type": "stream",
          "text": [
            "[[ 0. -1.]\n",
            " [ 1.  0.]] \n",
            "\n",
            " [1.73205081 1.41421356] \n",
            "\n",
            " [[ 0.57735027 -0.57735027  0.57735027]\n",
            " [-0.70710678 -0.70710678  0.        ]\n",
            " [-0.40824829  0.40824829  0.81649658]]\n"
          ],
          "name": "stdout"
        }
      ]
    },
    {
      "cell_type": "code",
      "metadata": {
        "id": "bdnsa5oAYZC9",
        "colab": {
          "base_uri": "https://localhost:8080/"
        },
        "outputId": "e37e8048-cdc2-4969-bb96-b9e8c53f268a"
      },
      "source": [
        "print(\"Recreated Matrix:\\n\", recreate_matrix(V, sigma, UStar))\n",
        "print()\n",
        "print(\"Original Matrix:\\n\", matrix_2)"
      ],
      "execution_count": null,
      "outputs": [
        {
          "output_type": "stream",
          "text": [
            "Recreated Matrix:\n",
            " [[ 1.  1.  0.]\n",
            " [ 1. -1.  1.]]\n",
            "\n",
            "Original Matrix:\n",
            " [[ 1  1  0]\n",
            " [ 1 -1  1]]\n"
          ],
          "name": "stdout"
        }
      ]
    },
    {
      "cell_type": "markdown",
      "metadata": {
        "id": "47RMHOraYsGo"
      },
      "source": [
        "## Problem 2\n",
        "Using the Singular Value Decomposition (SVD)principals, perform the Latent Semantics Analysis (LSA) of the following 6 documents. Divide these documents into 2 different topics.\n",
        "\n",
        "1. 'runs'\n",
        "\n",
        "2. 'runs pitcher innings'\n",
        "\n",
        "3. 'pitcher'\n",
        "\n",
        "4. 'touchdown'\n",
        "\n",
        "5. 'quarterback'\n",
        "\n",
        "6. 'touchdown quarterback'\n"
      ]
    },
    {
      "cell_type": "code",
      "metadata": {
        "id": "Fa6uygZ1bIri"
      },
      "source": [
        "corpus = ['runs', 'runs pitcher innings', 'pitcher', 'touchdown', 'quarterback', 'touchdown quarterback']\n",
        "cv = CountVectorizer()\n",
        "bag_of_words = cv.fit_transform(corpus)\n"
      ],
      "execution_count": null,
      "outputs": []
    },
    {
      "cell_type": "code",
      "metadata": {
        "colab": {
          "base_uri": "https://localhost:8080/",
          "height": 204
        },
        "id": "JjRXyQzZbnvb",
        "outputId": "a4ddaf7f-d7d3-4801-99d1-26e50406a84b"
      },
      "source": [
        "df = pd.DataFrame(bag_of_words.toarray(), columns = cv.get_feature_names())\n",
        "df.T"
      ],
      "execution_count": null,
      "outputs": [
        {
          "output_type": "execute_result",
          "data": {
            "text/html": [
              "<div>\n",
              "<style scoped>\n",
              "    .dataframe tbody tr th:only-of-type {\n",
              "        vertical-align: middle;\n",
              "    }\n",
              "\n",
              "    .dataframe tbody tr th {\n",
              "        vertical-align: top;\n",
              "    }\n",
              "\n",
              "    .dataframe thead th {\n",
              "        text-align: right;\n",
              "    }\n",
              "</style>\n",
              "<table border=\"1\" class=\"dataframe\">\n",
              "  <thead>\n",
              "    <tr style=\"text-align: right;\">\n",
              "      <th></th>\n",
              "      <th>0</th>\n",
              "      <th>1</th>\n",
              "      <th>2</th>\n",
              "      <th>3</th>\n",
              "      <th>4</th>\n",
              "      <th>5</th>\n",
              "    </tr>\n",
              "  </thead>\n",
              "  <tbody>\n",
              "    <tr>\n",
              "      <th>innings</th>\n",
              "      <td>0</td>\n",
              "      <td>1</td>\n",
              "      <td>0</td>\n",
              "      <td>0</td>\n",
              "      <td>0</td>\n",
              "      <td>0</td>\n",
              "    </tr>\n",
              "    <tr>\n",
              "      <th>pitcher</th>\n",
              "      <td>0</td>\n",
              "      <td>1</td>\n",
              "      <td>1</td>\n",
              "      <td>0</td>\n",
              "      <td>0</td>\n",
              "      <td>0</td>\n",
              "    </tr>\n",
              "    <tr>\n",
              "      <th>quarterback</th>\n",
              "      <td>0</td>\n",
              "      <td>0</td>\n",
              "      <td>0</td>\n",
              "      <td>0</td>\n",
              "      <td>1</td>\n",
              "      <td>1</td>\n",
              "    </tr>\n",
              "    <tr>\n",
              "      <th>runs</th>\n",
              "      <td>1</td>\n",
              "      <td>1</td>\n",
              "      <td>0</td>\n",
              "      <td>0</td>\n",
              "      <td>0</td>\n",
              "      <td>0</td>\n",
              "    </tr>\n",
              "    <tr>\n",
              "      <th>touchdown</th>\n",
              "      <td>0</td>\n",
              "      <td>0</td>\n",
              "      <td>0</td>\n",
              "      <td>1</td>\n",
              "      <td>0</td>\n",
              "      <td>1</td>\n",
              "    </tr>\n",
              "  </tbody>\n",
              "</table>\n",
              "</div>"
            ],
            "text/plain": [
              "             0  1  2  3  4  5\n",
              "innings      0  1  0  0  0  0\n",
              "pitcher      0  1  1  0  0  0\n",
              "quarterback  0  0  0  0  1  1\n",
              "runs         1  1  0  0  0  0\n",
              "touchdown    0  0  0  1  0  1"
            ]
          },
          "metadata": {
            "tags": []
          },
          "execution_count": 43
        }
      ]
    },
    {
      "cell_type": "code",
      "metadata": {
        "id": "AqikfPPScDbY"
      },
      "source": [
        "def normalized(pt1):\n",
        "  return pt1/np.linalg.norm(pt1)"
      ],
      "execution_count": null,
      "outputs": []
    },
    {
      "cell_type": "code",
      "metadata": {
        "colab": {
          "base_uri": "https://localhost:8080/"
        },
        "id": "5lhbLZbecT6v",
        "outputId": "ce900b95-3a66-4c0a-f990-ba44e284bb3a"
      },
      "source": [
        "bag_of_words_array = bag_of_words.toarray()\n",
        "bag_of_words_array"
      ],
      "execution_count": null,
      "outputs": [
        {
          "output_type": "execute_result",
          "data": {
            "text/plain": [
              "array([[0, 0, 0, 1, 0],\n",
              "       [1, 1, 0, 1, 0],\n",
              "       [0, 1, 0, 0, 0],\n",
              "       [0, 0, 0, 0, 1],\n",
              "       [0, 0, 1, 0, 0],\n",
              "       [0, 0, 1, 0, 1]])"
            ]
          },
          "metadata": {
            "tags": []
          },
          "execution_count": 68
        }
      ]
    },
    {
      "cell_type": "code",
      "metadata": {
        "colab": {
          "base_uri": "https://localhost:8080/"
        },
        "id": "sfBhCTAidmeg",
        "outputId": "53c7e246-76b5-4033-ee31-a50a1ccf5975"
      },
      "source": [
        "vectors_normalized = [normalized(i) for i in bag_of_words_array]\n",
        "vectors_normalized"
      ],
      "execution_count": null,
      "outputs": [
        {
          "output_type": "execute_result",
          "data": {
            "text/plain": [
              "[array([0., 0., 0., 1., 0.]),\n",
              " array([0.57735027, 0.57735027, 0.        , 0.57735027, 0.        ]),\n",
              " array([0., 1., 0., 0., 0.]),\n",
              " array([0., 0., 0., 0., 1.]),\n",
              " array([0., 0., 1., 0., 0.]),\n",
              " array([0.        , 0.        , 0.70710678, 0.        , 0.70710678])]"
            ]
          },
          "metadata": {
            "tags": []
          },
          "execution_count": 70
        }
      ]
    },
    {
      "cell_type": "markdown",
      "metadata": {
        "id": "PnV_TEeSaYBA"
      },
      "source": [
        "\n",
        "**1. Using the SK Learn CountVectorizer function,vectorize all the 6 documents in the corpus.  Compute the “cosine similarity” & “cosine distance” between all the 6 document’s normalized vectors**\n"
      ]
    },
    {
      "cell_type": "code",
      "metadata": {
        "id": "KaN88fPbZHbn"
      },
      "source": [
        "def cosine_similarity(pt1, pt2):\n",
        "  return np.dot(pt1, pt2)"
      ],
      "execution_count": null,
      "outputs": []
    },
    {
      "cell_type": "code",
      "metadata": {
        "id": "oBQP9FZpZT_D"
      },
      "source": [
        "num_docs = len(corpus)\n",
        "cosine_similarity_matrix = np.zeros((num_docs, num_docs))\n",
        "cosine_distance_matrix = np.zeros((num_docs, num_docs))"
      ],
      "execution_count": null,
      "outputs": []
    },
    {
      "cell_type": "code",
      "metadata": {
        "colab": {
          "base_uri": "https://localhost:8080/"
        },
        "id": "PeW66oFHrP3h",
        "outputId": "3d9a802c-e4fa-4e3e-f8f4-fa0d876cf203"
      },
      "source": [
        "for i in range(num_docs):\n",
        "  for j in range(num_docs):\n",
        "    cosine_similarity_matrix[i,j] = cosine_similarity(vectors_normalized[i], vectors_normalized[j])\n",
        "    cosine_distance_matrix[i,j] = 1 - cosine_similarity_matrix[i,j]\n",
        "    \n",
        "print(\"Similarity Matrix:\\n\\n\",cosine_similarity_matrix)\n",
        "print()\n",
        "print(\"Cosine Distance Matrix:\\n\\n\",cosine_distance_matrix)"
      ],
      "execution_count": null,
      "outputs": [
        {
          "output_type": "stream",
          "text": [
            "Similarity Matrix:\n",
            "\n",
            " [[1.         0.57735027 0.         0.         0.         0.        ]\n",
            " [0.57735027 1.         0.57735027 0.         0.         0.        ]\n",
            " [0.         0.57735027 1.         0.         0.         0.        ]\n",
            " [0.         0.         0.         1.         0.         0.70710678]\n",
            " [0.         0.         0.         0.         1.         0.70710678]\n",
            " [0.         0.         0.         0.70710678 0.70710678 1.        ]]\n",
            "\n",
            "Cosine Distance Matrix:\n",
            "\n",
            " [[ 0.          0.42264973  1.          1.          1.          1.        ]\n",
            " [ 0.42264973 -0.          0.42264973  1.          1.          1.        ]\n",
            " [ 1.          0.42264973  0.          1.          1.          1.        ]\n",
            " [ 1.          1.          1.          0.          1.          0.29289322]\n",
            " [ 1.          1.          1.          1.          0.          0.29289322]\n",
            " [ 1.          1.          1.          0.29289322  0.29289322  0.        ]]\n"
          ],
          "name": "stdout"
        }
      ]
    },
    {
      "cell_type": "markdown",
      "metadata": {
        "id": "KlR5lV2GeSc6"
      },
      "source": [
        "\n",
        "**2. Compute the ‘Document Term Matrix’ (DTM) and ‘Term (Word) Document Matrix’ (TDM) using the document’s vectors.**\n"
      ]
    },
    {
      "cell_type": "code",
      "metadata": {
        "colab": {
          "base_uri": "https://localhost:8080/"
        },
        "id": "uKQuUFoueTcS",
        "outputId": "a51d1ec6-c21f-4aa0-80d9-7d84a3ddfc3a"
      },
      "source": [
        "TDM = bag_of_words.todense().T\n",
        "print(\"TDM\")\n",
        "print(TDM)"
      ],
      "execution_count": null,
      "outputs": [
        {
          "output_type": "stream",
          "text": [
            "TDM\n",
            "[[0 1 0 0 0 0]\n",
            " [0 1 1 0 0 0]\n",
            " [0 0 0 0 1 1]\n",
            " [1 1 0 0 0 0]\n",
            " [0 0 0 1 0 1]]\n"
          ],
          "name": "stdout"
        }
      ]
    },
    {
      "cell_type": "code",
      "metadata": {
        "colab": {
          "base_uri": "https://localhost:8080/"
        },
        "id": "XXyniI9sedAy",
        "outputId": "4c7fa14c-747e-4299-9adb-a4a91678b5d7"
      },
      "source": [
        "DTM = bag_of_words.todense()\n",
        "print(\"DTM\")\n",
        "print(DTM)"
      ],
      "execution_count": null,
      "outputs": [
        {
          "output_type": "stream",
          "text": [
            "DTM\n",
            "[[0 0 0 1 0]\n",
            " [1 1 0 1 0]\n",
            " [0 1 0 0 0]\n",
            " [0 0 0 0 1]\n",
            " [0 0 1 0 0]\n",
            " [0 0 1 0 1]]\n"
          ],
          "name": "stdout"
        }
      ]
    },
    {
      "cell_type": "markdown",
      "metadata": {
        "id": "2MGEd9siezSs"
      },
      "source": [
        "**3. Compute the ‘Singular Value Decomposition’ (SVD) matrix for both DTM (Document Term Matrix) & TDM (Term Document Matrix) computed in the previous step. Using only the first 2 eigen values from the SVD and the SK Learn TruncatedSVD function, compute the Truncated DTM and TDM.**"
      ]
    },
    {
      "cell_type": "markdown",
      "metadata": {
        "id": "PsGsR_D8fWJy"
      },
      "source": [
        "*TDM (Term Document Matrix)*\n"
      ]
    },
    {
      "cell_type": "code",
      "metadata": {
        "colab": {
          "base_uri": "https://localhost:8080/"
        },
        "id": "cBLlR2tHej76",
        "outputId": "1c069f60-2113-4106-a4e7-d4117fe8b0ff"
      },
      "source": [
        "np.set_printoptions(precision=8, suppress=True)\n",
        "V, Sigma, UStar = svd(TDM)\n",
        "print(V, \"\\n\\n\", sigma, \"\\n\\n\", UStar)"
      ],
      "execution_count": null,
      "outputs": [
        {
          "output_type": "stream",
          "text": [
            "[[-0.45970084 -0.         -0.         -0.         -0.88807383]\n",
            " [-0.62796303  0.          0.          0.70710678  0.32505758]\n",
            " [ 0.         -0.70710678 -0.70710678  0.          0.        ]\n",
            " [-0.62796303  0.          0.         -0.70710678  0.32505758]\n",
            " [ 0.         -0.70710678  0.70710678  0.          0.        ]] \n",
            "\n",
            " [1.73205081 1.41421356] \n",
            "\n",
            " [[-0.32505758 -0.88807383 -0.32505758  0.          0.          0.        ]\n",
            " [-0.         -0.          0.         -0.40824829 -0.40824829 -0.81649658]\n",
            " [-0.         -0.          0.          0.70710678 -0.70710678  0.        ]\n",
            " [-0.70710678  0.          0.70710678  0.          0.          0.        ]\n",
            " [ 0.62796303 -0.45970084  0.62796303  0.          0.          0.        ]\n",
            " [ 0.          0.          0.         -0.57735027 -0.57735027  0.57735027]]\n"
          ],
          "name": "stdout"
        }
      ]
    },
    {
      "cell_type": "code",
      "metadata": {
        "colab": {
          "base_uri": "https://localhost:8080/"
        },
        "id": "nSdwkT1piahq",
        "outputId": "ee38b30f-5205-4764-8d3b-d7005f7d0972"
      },
      "source": [
        "sigma_sig_num = 2\n",
        "svd_trunc = TruncatedSVD(n_components= sigma_sig_num)\n",
        "lsa = svd_trunc.fit_transform(bag_of_words.todense().T)\n",
        "print(lsa)"
      ],
      "execution_count": null,
      "outputs": [
        {
          "output_type": "stream",
          "text": [
            "[[ 0.88807383 -0.        ]\n",
            " [ 1.21313142  0.        ]\n",
            " [ 0.          1.22474487]\n",
            " [ 1.21313142 -0.        ]\n",
            " [ 0.          1.22474487]]\n"
          ],
          "name": "stdout"
        }
      ]
    },
    {
      "cell_type": "markdown",
      "metadata": {
        "id": "WEgYag3bfeDS"
      },
      "source": [
        "*DTM (Document Term Matrix)*"
      ]
    },
    {
      "cell_type": "code",
      "metadata": {
        "colab": {
          "base_uri": "https://localhost:8080/"
        },
        "id": "n5uw_6bffA5U",
        "outputId": "bfad28e4-0b50-4551-abe2-e659a0d94901"
      },
      "source": [
        "np.set_printoptions(precision=8, suppress=True)\n",
        "V, Sigma, UStar = svd(DTM)\n",
        "print(V, \"\\n\\n\", sigma, \"\\n\\n\", UStar)"
      ],
      "execution_count": null,
      "outputs": [
        {
          "output_type": "stream",
          "text": [
            "[[-0.32505758  0.          0.         -0.70710678  0.62796303  0.        ]\n",
            " [-0.88807383  0.          0.          0.         -0.45970084  0.        ]\n",
            " [-0.32505758  0.          0.          0.70710678  0.62796303  0.        ]\n",
            " [ 0.          0.40824829 -0.70710678  0.          0.         -0.57735027]\n",
            " [ 0.          0.40824829  0.70710678  0.          0.         -0.57735027]\n",
            " [ 0.          0.81649658 -0.          0.          0.          0.57735027]] \n",
            "\n",
            " [1.73205081 1.41421356] \n",
            "\n",
            " [[-0.45970084 -0.62796303  0.         -0.62796303 -0.        ]\n",
            " [-0.         -0.          0.70710678  0.          0.70710678]\n",
            " [-0.         -0.          0.70710678  0.         -0.70710678]\n",
            " [ 0.          0.70710678  0.         -0.70710678  0.        ]\n",
            " [-0.88807383  0.32505758 -0.          0.32505758 -0.        ]]\n"
          ],
          "name": "stdout"
        }
      ]
    },
    {
      "cell_type": "code",
      "metadata": {
        "colab": {
          "base_uri": "https://localhost:8080/"
        },
        "id": "Wgq4KW-OiHia",
        "outputId": "179c167b-5c1e-4122-8457-a718d607c98f"
      },
      "source": [
        "sigma_sig_num = 2\n",
        "svd_trunc = TruncatedSVD(n_components = sigma_sig_num)\n",
        "lsa = svd_trunc.fit_transform(bag_of_words.todense())\n",
        "print(lsa)"
      ],
      "execution_count": null,
      "outputs": [
        {
          "output_type": "stream",
          "text": [
            "[[ 0.62796303 -0.        ]\n",
            " [ 1.7156269  -0.        ]\n",
            " [ 0.62796303 -0.        ]\n",
            " [ 0.          0.70710678]\n",
            " [ 0.          0.70710678]\n",
            " [ 0.          1.41421356]]\n"
          ],
          "name": "stdout"
        }
      ]
    },
    {
      "cell_type": "markdown",
      "metadata": {
        "id": "y0PMk35elNy3"
      },
      "source": [
        "**4. What are the topics on which LSA has divided these set of documents?**\n",
        "\n",
        "Plot all the 6 Truncated vectors with the following specifications.\n",
        "* X-axis: Truncated DTM/Topic-1 values\n",
        "* Y-axis: Truncated DTM/Topic-2 values\n",
        "\n",
        "Compute the ‘cosine similarity’ and ‘cosine distance’ using the Truncated SVD."
      ]
    },
    {
      "cell_type": "code",
      "metadata": {
        "id": "RwjDFs6mlCz2"
      },
      "source": [
        "num_docs = len(corpus)\n",
        "cosine_similarity_matrix = np.zeros((num_docs, num_docs))\n",
        "cosine_distance_matrix = np.zeros((num_docs, num_docs))"
      ],
      "execution_count": null,
      "outputs": []
    },
    {
      "cell_type": "code",
      "metadata": {
        "colab": {
          "base_uri": "https://localhost:8080/"
        },
        "id": "CLLKoWzpl-5_",
        "outputId": "285909f0-cceb-440a-d412-06e4cf81b000"
      },
      "source": [
        "for i in range(num_docs):\n",
        "  for j in range(num_docs):\n",
        "    cosine_similarity_matrix[i,j] = cosine_similarity(lsa[i], lsa[j])\n",
        "    cosine_distance_matrix[i,j] = 1 - cosine_similarity_matrix[i,j]\n",
        "\n",
        "print(\"Similarity Matrix:\\n\\n\",cosine_similarity_matrix)\n",
        "print()\n",
        "print(\"Cosine Distance Matrix:\\n\\n\",cosine_distance_matrix)"
      ],
      "execution_count": null,
      "outputs": [
        {
          "output_type": "stream",
          "text": [
            "Similarity Matrix:\n",
            "\n",
            " [[ 0.39433757  1.07735027  0.39433757 -0.         -0.         -0.        ]\n",
            " [ 1.07735027  2.94337567  1.07735027  0.          0.          0.        ]\n",
            " [ 0.39433757  1.07735027  0.39433757 -0.         -0.         -0.        ]\n",
            " [-0.          0.         -0.          0.5         0.5         1.        ]\n",
            " [-0.          0.         -0.          0.5         0.5         1.        ]\n",
            " [-0.          0.         -0.          1.          1.          2.        ]]\n",
            "\n",
            "Cosine Distance Matrix:\n",
            "\n",
            " [[ 0.60566243 -0.07735027  0.60566243  1.          1.          1.        ]\n",
            " [-0.07735027 -1.94337567 -0.07735027  1.          1.          1.        ]\n",
            " [ 0.60566243 -0.07735027  0.60566243  1.          1.          1.        ]\n",
            " [ 1.          1.          1.          0.5         0.5        -0.        ]\n",
            " [ 1.          1.          1.          0.5         0.5        -0.        ]\n",
            " [ 1.          1.          1.         -0.         -0.         -1.        ]]\n"
          ],
          "name": "stdout"
        }
      ]
    },
    {
      "cell_type": "code",
      "metadata": {
        "colab": {
          "base_uri": "https://localhost:8080/",
          "height": 235
        },
        "id": "sw_if7nSza3G",
        "outputId": "d65a878a-3a69-4d5b-f50a-8071042d45b5"
      },
      "source": [
        "pd.set_option('display.float_format', lambda x: '%.3f' % x)\n",
        "\n",
        "df = pd.DataFrame(lsa, columns = ['topic 1', 'topic 2'])\n",
        "df['corpus'] = corpus\n",
        "df"
      ],
      "execution_count": null,
      "outputs": [
        {
          "output_type": "execute_result",
          "data": {
            "text/html": [
              "<div>\n",
              "<style scoped>\n",
              "    .dataframe tbody tr th:only-of-type {\n",
              "        vertical-align: middle;\n",
              "    }\n",
              "\n",
              "    .dataframe tbody tr th {\n",
              "        vertical-align: top;\n",
              "    }\n",
              "\n",
              "    .dataframe thead th {\n",
              "        text-align: right;\n",
              "    }\n",
              "</style>\n",
              "<table border=\"1\" class=\"dataframe\">\n",
              "  <thead>\n",
              "    <tr style=\"text-align: right;\">\n",
              "      <th></th>\n",
              "      <th>topic 1</th>\n",
              "      <th>topic 2</th>\n",
              "      <th>corpus</th>\n",
              "    </tr>\n",
              "  </thead>\n",
              "  <tbody>\n",
              "    <tr>\n",
              "      <th>0</th>\n",
              "      <td>0.628</td>\n",
              "      <td>-0.000</td>\n",
              "      <td>runs</td>\n",
              "    </tr>\n",
              "    <tr>\n",
              "      <th>1</th>\n",
              "      <td>1.716</td>\n",
              "      <td>-0.000</td>\n",
              "      <td>runs pitcher innings</td>\n",
              "    </tr>\n",
              "    <tr>\n",
              "      <th>2</th>\n",
              "      <td>0.628</td>\n",
              "      <td>-0.000</td>\n",
              "      <td>pitcher</td>\n",
              "    </tr>\n",
              "    <tr>\n",
              "      <th>3</th>\n",
              "      <td>0.000</td>\n",
              "      <td>0.707</td>\n",
              "      <td>touchdown</td>\n",
              "    </tr>\n",
              "    <tr>\n",
              "      <th>4</th>\n",
              "      <td>0.000</td>\n",
              "      <td>0.707</td>\n",
              "      <td>quarterback</td>\n",
              "    </tr>\n",
              "    <tr>\n",
              "      <th>5</th>\n",
              "      <td>0.000</td>\n",
              "      <td>1.414</td>\n",
              "      <td>touchdown quarterback</td>\n",
              "    </tr>\n",
              "  </tbody>\n",
              "</table>\n",
              "</div>"
            ],
            "text/plain": [
              "   topic 1  topic 2                 corpus\n",
              "0    0.628   -0.000                   runs\n",
              "1    1.716   -0.000   runs pitcher innings\n",
              "2    0.628   -0.000                pitcher\n",
              "3    0.000    0.707              touchdown\n",
              "4    0.000    0.707            quarterback\n",
              "5    0.000    1.414  touchdown quarterback"
            ]
          },
          "metadata": {
            "tags": []
          },
          "execution_count": 186
        }
      ]
    },
    {
      "cell_type": "code",
      "metadata": {
        "colab": {
          "base_uri": "https://localhost:8080/",
          "height": 269
        },
        "id": "_p06LJmNmuu9",
        "outputId": "36238e6c-fc20-45bc-b5b8-5259fda8752a"
      },
      "source": [
        "fig = plt.figure()\n",
        "ax = plt.gca()\n",
        "ax.plot(df['topic 1'], df['topic 2'], 'x', c = 'r')\n",
        "ax.grid(True)\n",
        "ax.spines['left'].set_position('zero')\n",
        "ax.spines['right'].set_color('none')\n",
        "ax.spines['bottom'].set_position('zero')\n",
        "ax.spines['top'].set_color('none')\n",
        "plt.xlabel(\"Topic 1\")\n",
        "plt.ylabel(\"Topic 2\")\n",
        "plt.show()"
      ],
      "execution_count": null,
      "outputs": [
        {
          "output_type": "display_data",
          "data": {
            "image/png": "[encoded data removed]",
            "text/plain": [
              "<Figure size 432x288 with 1 Axes>"
            ]
          },
          "metadata": {
            "tags": [],
            "needs_background": "light"
          }
        }
      ]
    },
    {
      "cell_type": "markdown",
      "metadata": {
        "id": "M0tNA9TorbMg"
      },
      "source": [
        "\n",
        "**5. Which documents are more appropriate for ‘Topic-1’ and ‘Topic-2’?**\n",
        "\n",
        "Documents 0, 1, and 2 are more appropriate for topic 1. Documents 3, 4, and 5 are strong for Topic 2."
      ]
    },
    {
      "cell_type": "markdown",
      "metadata": {
        "id": "deZaVs0s1M1H"
      },
      "source": [
        "\n",
        "**6. Which are the top 2 words that describe ‘Topic-1’ and ‘Topic-2’?**\n",
        "\n",
        "Touchdown quarterback descrive topic 2, and runs pitcher describe topic 1."
      ]
    }
  ]
}