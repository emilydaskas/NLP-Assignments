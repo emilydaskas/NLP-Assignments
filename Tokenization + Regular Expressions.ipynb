{
 "cells": [
  {
   "cell_type": "markdown",
   "metadata": {
    "id": "x9JCtUlyF2iR"
   },
   "source": [
    "\n",
    "# **NLP Assignment 2**\n",
    "\n",
    "**Token\n",
    "\n",
    "Emily Daskas"
   ]
  },
  {
   "cell_type": "code",
   "execution_count": null,
   "metadata": {
    "colab": {
     "base_uri": "https://localhost:8080/"
    },
    "id": "yWvB62yWUoPd",
    "outputId": "e9f52299-f6ff-44fa-cee5-0815d309a04d"
   },
   "outputs": [
    {
     "name": "stdout",
     "output_type": "stream",
     "text": [
      "[nltk_data] Downloading package punkt to /root/nltk_data...\n",
      "[nltk_data]   Package punkt is already up-to-date!\n"
     ]
    }
   ],
   "source": [
    "import pandas as pd\n",
    "import re\n",
    "from re import *\n",
    "import nltk\n",
    "nltk.download('punkt')\n",
    "from nltk.tokenize import word_tokenize, sent_tokenize\n",
    "from nltk.tokenize import TweetTokenizer"
   ]
  },
  {
   "cell_type": "code",
   "execution_count": null,
   "metadata": {
    "id": "Mi6qknQpUvsl"
   },
   "outputs": [],
   "source": [
    "countries = pd.read_csv('/worldfloras.csv')"
   ]
  },
  {
   "cell_type": "code",
   "execution_count": null,
   "metadata": {
    "id": "nXG2r1I1apl2"
   },
   "outputs": [],
   "source": [
    "all_countries_str = ''\n",
    "for i in iter(countries['Country'].dropna()):\n",
    "    all_countries_str += '\\n' + i\n"
   ]
  },
  {
   "cell_type": "code",
   "execution_count": null,
   "metadata": {
    "colab": {
     "base_uri": "https://localhost:8080/",
     "height": 174
    },
    "id": "j1IK8WtIixOk",
    "outputId": "0a8a2246-cfee-4ed0-a15a-7aa577f74886"
   },
   "outputs": [
    {
     "data": {
      "application/vnd.google.colaboratory.intrinsic+json": {
       "type": "string"
      },
      "text/plain": [
       "'\\nAfghanistan\\nAlbania\\nAlgeria\\nAndorra\\nAngola\\nAntarctica\\nArgentina\\nAustralia\\nAustria\\nBahrain\\nBalearic Islands\\nBangladesh\\nBelgium\\nBelize\\nBenin\\nBhutan\\nBolivia\\nBotswana\\nBrazil\\nBrunei\\nBulgaria\\nBurkina Faso\\nBurma\\nBurundi\\nCameroon\\nCanada\\nCentral African Republic\\nChad\\nChile\\nChina\\nColombia\\nCongo\\nCorsica\\nCosta Rica\\nCrete\\nCuba\\nCyprus\\nCzechoslovakia\\nDenmark\\nDominican Republic\\nEcuador\\nEgypt\\nEl Salvador\\nEthiopia\\nFinland\\nFrance\\nFrench Guiana\\nGabon\\nGalapagos\\nGambia\\nGermany East\\nGermany West\\nGhana\\nGreece\\nGreenland\\nGuatemala\\nGuinea\\nGuyana\\nHaiti\\nHawaii\\nHonduras\\nHong Kong\\nHungary\\nIceland\\nIndia\\nIndonesia\\nIran\\nIraq\\nIreland\\nIsrael\\nItaly\\nIvory Coast\\nJamaica\\nJapan\\nJordan\\nKampuchea\\nKenya\\nKorea\\nKuwait\\nLaos\\nLebanon\\nLesotho\\nLiberia\\nLibya\\nLiechtenstein\\nLuxembourg\\nMadagascar\\nMalawi\\nMalaysia\\nMali\\nMalta\\nMauritania\\nMauritius\\nMexico\\nMongolia\\nMorocco\\nMozambique\\nNamibia\\nNepal\\nNetherlands\\nNew Caledonia\\nNew Zealand\\nNicaragua\\nNiger\\nNigeria\\nNorway\\nOman\\nPakistan\\nPanama\\nPapua New Guinea\\nParaguay\\nPeru\\nPhilippines\\nPoland\\nPortugal\\nPuerto Rico\\nQatar\\nReunion\\nRomania\\nRwanda\\nSardinia\\nSaudi Arabia\\nSenegal\\nSeychelles\\nSicily\\nSierra Leone\\nSingapore\\nSolomon Islands\\nSomalia\\nSouth Africa\\nSpain\\nSri Lanka\\nSt.Helena\\nSudan\\nSuriname\\nSwaziland\\nSweden\\nSwitzerland\\nSyria\\nTaiwan\\nTanzania\\nThailand\\nTogo\\nTrinidad & Tobago\\nTristan da Cunha\\nTunisia\\nTurkey\\nUganda\\nUnited Kingdom\\nUruguay\\nUSA\\nUSSR\\nVanuatu\\nVenezuela\\nViet Nam\\nYemen North\\nYemen South\\nYugoslavia\\nZaire\\nZambia\\nZimbabwe'"
      ]
     },
     "execution_count": 64,
     "metadata": {
      "tags": []
     },
     "output_type": "execute_result"
    }
   ],
   "source": [
    "all_countries_str"
   ]
  },
  {
   "cell_type": "code",
   "execution_count": null,
   "metadata": {
    "id": "2PiLkbsqWAbd"
   },
   "outputs": [],
   "source": [
    "contents = countries['Country']"
   ]
  },
  {
   "cell_type": "markdown",
   "metadata": {},
   "source": [
    "**1. Display the country names that start with characters ‘D’ or ‘E’.**"
   ]
  },
  {
   "cell_type": "code",
   "execution_count": null,
   "metadata": {
    "id": "R7z-OLhMXBtY"
   },
   "outputs": [],
   "source": [
    "pattern = re.compile(r'\\n[DE]\\w.*')\n",
    "matches1 = pattern.finditer(all_countries_str)\n"
   ]
  },
  {
   "cell_type": "code",
   "execution_count": null,
   "metadata": {
    "colab": {
     "base_uri": "https://localhost:8080/"
    },
    "id": "0XcM1ZJak-W1",
    "outputId": "7cb08a38-5dd0-4af3-c219-52071e939dc7"
   },
   "outputs": [
    {
     "name": "stdout",
     "output_type": "stream",
     "text": [
      "\n",
      "Denmark\n",
      "\n",
      "Dominican Republic\n",
      "\n",
      "Ecuador\n",
      "\n",
      "Egypt\n",
      "\n",
      "El Salvador\n",
      "\n",
      "Ethiopia\n"
     ]
    }
   ],
   "source": [
    "for match in matches1:\n",
    "  print(match[0])"
   ]
  },
  {
   "cell_type": "markdown",
   "metadata": {},
   "source": [
    "**2. Display the country names that start with the word ‘New’.**"
   ]
  },
  {
   "cell_type": "code",
   "execution_count": null,
   "metadata": {
    "colab": {
     "base_uri": "https://localhost:8080/"
    },
    "id": "UEZfvPNDj0B0",
    "outputId": "26131e31-7abb-4c13-93b0-dd2f6cffa281"
   },
   "outputs": [
    {
     "name": "stdout",
     "output_type": "stream",
     "text": [
      "\n",
      "New Caledonia\n",
      "\n",
      "New Zealand\n"
     ]
    }
   ],
   "source": [
    "pattern = re.compile(r'\\nNew\\s.*')\n",
    "matches = pattern.finditer(all_countries_str)\n",
    "for match in matches:\n",
    "    print(match[0])"
   ]
  },
  {
   "cell_type": "markdown",
   "metadata": {},
   "source": [
    "**3. Display the countrynames that have a character ‘y’ as the 2nd character (indexing starts from 1) in their name.**"
   ]
  },
  {
   "cell_type": "code",
   "execution_count": null,
   "metadata": {
    "colab": {
     "base_uri": "https://localhost:8080/"
    },
    "id": "CPI5rQ602OBy",
    "outputId": "798d096e-1cbb-4349-eea0-fc7fcc326118"
   },
   "outputs": [
    {
     "name": "stdout",
     "output_type": "stream",
     "text": [
      "\n",
      "Cyprus\n",
      "\n",
      "Syria\n"
     ]
    }
   ],
   "source": [
    "pattern = re.compile(r'\\n[A-Z]{1}y+\\w+')\n",
    "matches = pattern.finditer(all_countries_str)\n",
    "for match in matches:\n",
    "    print(match[0])"
   ]
  },
  {
   "cell_type": "markdown",
   "metadata": {},
   "source": [
    "**4. Display the countrynames that have a character ‘y’ as the 6th character (indexing starts from 1) in their name.  Use Python ‘re’ library for regular expressions.**"
   ]
  },
  {
   "cell_type": "code",
   "execution_count": null,
   "metadata": {
    "colab": {
     "base_uri": "https://localhost:8080/"
    },
    "id": "CW8OaRvA6-I8",
    "outputId": "4e2bf2eb-008f-441e-cbba-279f401b1dd7"
   },
   "outputs": [
    {
     "name": "stdout",
     "output_type": "stream",
     "text": [
      "\n",
      "Norway\n",
      "\n",
      "Sicily\n",
      "\n",
      "Turkey\n"
     ]
    }
   ],
   "source": [
    "pattern = re.compile(r'\\n[A-Za-z]{5}y+\\w*')\n",
    "matches = pattern.finditer(all_countries_str)\n",
    "for match in matches:\n",
    "    print(match[0])"
   ]
  },
  {
   "cell_type": "markdown",
   "metadata": {},
   "source": [
    "**5. Display the country names that have a character ‘c’ as the 4th character (indexing starts from 1) in their name.  Use Python ‘re’ library for regular expressions.**"
   ]
  },
  {
   "cell_type": "code",
   "execution_count": null,
   "metadata": {
    "colab": {
     "base_uri": "https://localhost:8080/"
    },
    "id": "AeyETgH3jIBL",
    "outputId": "de10d72c-0d81-4a35-a331-d5d51a64f712"
   },
   "outputs": [
    {
     "name": "stdout",
     "output_type": "stream",
     "text": [
      "\n",
      "Czechoslovakia\n",
      "\n",
      "Liechtenstein\n",
      "\n",
      "Seychelles\n"
     ]
    }
   ],
   "source": [
    "pattern = re.compile(r'\\n[A-Za-z]{3}c+\\w*')\n",
    "\n",
    "matches = pattern.finditer(all_countries_str)\n",
    "for match in matches:\n",
    "    print(match[0])"
   ]
  },
  {
   "cell_type": "code",
   "execution_count": null,
   "metadata": {
    "id": "0JChlQYd75BL"
   },
   "outputs": [],
   "source": [
    "hamlet = open('Hamlet.txt').read()\n",
    "len_chars = 1000\n",
    "text1000 = hamlet[0:len_chars+1]"
   ]
  },
  {
   "cell_type": "code",
   "execution_count": null,
   "metadata": {
    "id": "Ue4Hsc8-BNx8"
   },
   "outputs": [],
   "source": [
    "def print_words(list_words, num_elems):\n",
    "    for j in range(0, len(list_words), num_elems):\n",
    "        for i in range(j, j+num_elems):\n",
    "            if (i >= len(list_words)):\n",
    "                break\n",
    "            print(i, '.', list_words[i], end = ',  ')\n",
    "        print()\n",
    "    print()"
   ]
  },
  {
   "cell_type": "markdown",
   "metadata": {},
   "source": [
    "Read the ‘Hamlet.txt’ file and copy the first 1,000 characters in a Python string variable ‘text1000’.  The data in this file is used for problem #6-#9.\n",
    "\n",
    "**6. Find all the wordtokens using regular expressionsin text1000string variable.**"
   ]
  },
  {
   "cell_type": "code",
   "execution_count": null,
   "metadata": {
    "colab": {
     "base_uri": "https://localhost:8080/"
    },
    "id": "0V5GE4Zp_X4V",
    "outputId": "60c248bd-b3c7-488d-ad5c-9e311893516f"
   },
   "outputs": [
    {
     "name": "stdout",
     "output_type": "stream",
     "text": [
      "0 . ,  1 . Project,  2 . Gutenberg,  3 . EBook,  4 . of,  5 . Hamlet,,  6 . by,  7 . William,  8 . Shakespeare,  9 . This,  \n",
      "10 . eBook,  11 . is,  12 . for,  13 . the,  14 . use,  15 . of,  16 . anyone,  17 . anywhere,  18 . in,  19 . the,  \n",
      "20 . United,  21 . States,  22 . and,  23 . most,  24 . other,  25 . parts,  26 . of,  27 . the,  28 . world,  29 . at,  \n",
      "30 . no,  31 . cost,  32 . and,  33 . with,  34 . almost,  35 . no,  36 . restrictions,  37 . whatsoever.,  38 . You,  39 . may,  \n",
      "40 . copy,  41 . it,,  42 . give,  43 . it,  44 . away,  45 . or,  46 . re-use,  47 . it,  48 . under,  49 . the,  \n",
      "50 . terms,  51 . of,  52 . the,  53 . Project,  54 . Gutenberg,  55 . License,  56 . included,  57 . with,  58 . this,  59 . eBook,  \n",
      "60 . or,  61 . online,  62 . at,  63 . www.gutenberg.org.,  64 . If,  65 . you,  66 . are,  67 . not,  68 . located,  69 . in,  \n",
      "70 . the,  71 . United,  72 . States,,  73 . you’ll,  74 . have,  75 . to,  76 . check,  77 . the,  78 . laws,  79 . of,  \n",
      "80 . the,  81 . country,  82 . where,  83 . you,  84 . are,  85 . located,  86 . before,  87 . using,  88 . this,  89 . ebook.,  \n",
      "90 . Title:,  91 . Hamlet,  92 . Author:,  93 . William,  94 . Shakespeare,  95 . Release,  96 . Date:,  97 . November,  98 . 1998,  99 . [EBook,  \n",
      "100 . #1524],  101 . Last,  102 . Updated:,  103 . September,  104 . 30,,  105 . 2019,  106 . Language:,  107 . English,  108 . Character,  109 . set,  \n",
      "110 . encoding:,  111 . UTF-8,  112 . ***,  113 . START,  114 . OF,  115 . THIS,  116 . PROJECT,  117 . GUTENBERG,  118 . EBOOK,  119 . HAMLET,  \n",
      "120 . ***,  121 . This,  122 . etext,  123 . was,  124 . prepared,  125 . by,  126 . Dianne,  127 . Bean.,  128 . THE,  129 . TRAGEDY,  \n",
      "130 . OF,  131 . HAMLET,,  132 . PRINCE,  133 . OF,  134 . DENMARK,  135 . by,  136 . William,  137 . Shakespeare,  138 . Contents,  139 . ACT,  \n",
      "140 . I,  141 . Scene,  142 . I.,  143 . Elsinore.,  144 . A,  145 . platform,  146 . before,  147 . the,  148 . Castle.,  149 . Scene,  \n",
      "150 . II.,  151 . Elsinore.,  152 . A,  153 . room,  154 . of,  155 . state,  156 . in,  157 . the,  158 . Castle,  159 . Scene,  \n",
      "160 . III.,  161 . A,  162 . room,  163 . in,  164 . Polonius’s,  165 . house.,  \n",
      "\n"
     ]
    }
   ],
   "source": [
    "token = r'\\s+'\n",
    "matches = re.split(token, text1000)\n",
    "print_words(matches, 10)"
   ]
  },
  {
   "cell_type": "markdown",
   "metadata": {},
   "source": [
    "**7. Find all the sentence tokens using regular expressionsin text1000 string variable.**"
   ]
  },
  {
   "cell_type": "code",
   "execution_count": null,
   "metadata": {
    "colab": {
     "base_uri": "https://localhost:8080/"
    },
    "id": "4TUMV1TM-9_9",
    "outputId": "4599f12c-3369-4810-d313-17ba184b803d"
   },
   "outputs": [
    {
     "name": "stdout",
     "output_type": "stream",
     "text": [
      "0 . \n",
      "Project Gutenberg EBook of Hamlet, by William Shakespeare\n",
      "\n",
      "This eBook is for the use of anyone anywhere in the United States and\n",
      "most other parts of the world at no cost and with almost no\n",
      "restrictions whatsoever,  \n",
      "1 .   You may copy it, give it away or re-use it\n",
      "under the terms of the Project Gutenberg License included with this\n",
      "eBook or online at www,  \n",
      "2 . gutenberg,  \n",
      "3 . org,  \n",
      "4 .   If you are not located in the\n",
      "United States, you’ll have to check the laws of the country where you\n",
      "are located before using this ebook,  \n",
      "5 . \n",
      "\n",
      "\n",
      "\n",
      "Title: Hamlet\n",
      "\n",
      "Author: William Shakespeare\n",
      "\n",
      "Release Date: November 1998 [EBook #1524]\n",
      "Last Updated: September 30, 2019\n",
      "\n",
      "Language: English\n",
      "\n",
      "Character set encoding: UTF-8\n",
      "\n",
      "*** START OF THIS PROJECT GUTENBERG EBOOK HAMLET ***\n",
      "\n",
      "\n",
      "\n",
      "This etext was prepared by Dianne Bean,  \n",
      "6 . \n",
      "\n",
      "\n",
      "THE TRAGEDY OF HAMLET, PRINCE OF DENMARK\n",
      "\n",
      "\n",
      "\n",
      "\n",
      "by William Shakespeare\n",
      "\n",
      "\n",
      "\n",
      "\n",
      "\n",
      "\n",
      "Contents\n",
      "\n",
      "ACT I\n",
      "Scene I,  \n",
      "7 .  Elsinore,  \n",
      "8 .  A platform before the Castle,  \n",
      "9 . \n",
      "Scene II,  \n",
      "10 .  Elsinore,  \n",
      "11 .  A room of state in the Castle\n",
      "Scene III,  \n",
      "12 .  A room in Polonius’s house,  \n",
      "13 . ,  \n",
      "\n"
     ]
    }
   ],
   "source": [
    "punctuation = re.compile(r'[.?!]')\n",
    "s = re.split(punctuation, text1000)\n",
    "print_words(s, 1)"
   ]
  },
  {
   "cell_type": "markdown",
   "metadata": {},
   "source": [
    "**8. Find all the word tokens using NLTK libraryin text1000 string variable.**"
   ]
  },
  {
   "cell_type": "code",
   "execution_count": null,
   "metadata": {
    "colab": {
     "base_uri": "https://localhost:8080/"
    },
    "id": "yK0rXvsECZSl",
    "outputId": "8400cae2-eaea-4fc3-e11f-e1bf45953ccc"
   },
   "outputs": [
    {
     "name": "stdout",
     "output_type": "stream",
     "text": [
      "0 . Project,  1 . Gutenberg,  2 . EBook,  3 . of,  4 . Hamlet,  5 . ,,  6 . by,  7 . William,  8 . Shakespeare,  9 . This,  \n",
      "10 . eBook,  11 . is,  12 . for,  13 . the,  14 . use,  15 . of,  16 . anyone,  17 . anywhere,  18 . in,  19 . the,  \n",
      "20 . United,  21 . States,  22 . and,  23 . most,  24 . other,  25 . parts,  26 . of,  27 . the,  28 . world,  29 . at,  \n",
      "30 . no,  31 . cost,  32 . and,  33 . with,  34 . almost,  35 . no,  36 . restrictions,  37 . whatsoever,  38 . .,  39 . You,  \n",
      "40 . may,  41 . copy,  42 . it,  43 . ,,  44 . give,  45 . it,  46 . away,  47 . or,  48 . re-use,  49 . it,  \n",
      "50 . under,  51 . the,  52 . terms,  53 . of,  54 . the,  55 . Project,  56 . Gutenberg,  57 . License,  58 . included,  59 . with,  \n",
      "60 . this,  61 . eBook,  62 . or,  63 . online,  64 . at,  65 . www.gutenberg.org,  66 . .,  67 . If,  68 . you,  69 . are,  \n",
      "70 . not,  71 . located,  72 . in,  73 . the,  74 . United,  75 . States,  76 . ,,  77 . you,  78 . ’,  79 . ll,  \n",
      "80 . have,  81 . to,  82 . check,  83 . the,  84 . laws,  85 . of,  86 . the,  87 . country,  88 . where,  89 . you,  \n",
      "90 . are,  91 . located,  92 . before,  93 . using,  94 . this,  95 . ebook,  96 . .,  97 . Title,  98 . :,  99 . Hamlet,  \n",
      "100 . Author,  101 . :,  102 . William,  103 . Shakespeare,  104 . Release,  105 . Date,  106 . :,  107 . November,  108 . 1998,  109 . [,  \n",
      "110 . EBook,  111 . #,  112 . 1524,  113 . ],  114 . Last,  115 . Updated,  116 . :,  117 . September,  118 . 30,  119 . ,,  \n",
      "120 . 2019,  121 . Language,  122 . :,  123 . English,  124 . Character,  125 . set,  126 . encoding,  127 . :,  128 . UTF-8,  129 . ***,  \n",
      "130 . START,  131 . OF,  132 . THIS,  133 . PROJECT,  134 . GUTENBERG,  135 . EBOOK,  136 . HAMLET,  137 . ***,  138 . This,  139 . etext,  \n",
      "140 . was,  141 . prepared,  142 . by,  143 . Dianne,  144 . Bean,  145 . .,  146 . THE,  147 . TRAGEDY,  148 . OF,  149 . HAMLET,  \n",
      "150 . ,,  151 . PRINCE,  152 . OF,  153 . DENMARK,  154 . by,  155 . William,  156 . Shakespeare,  157 . Contents,  158 . ACT,  159 . I,  \n",
      "160 . Scene,  161 . I.,  162 . Elsinore,  163 . .,  164 . A,  165 . platform,  166 . before,  167 . the,  168 . Castle,  169 . .,  \n",
      "170 . Scene,  171 . II,  172 . .,  173 . Elsinore,  174 . .,  175 . A,  176 . room,  177 . of,  178 . state,  179 . in,  \n",
      "180 . the,  181 . Castle,  182 . Scene,  183 . III,  184 . .,  185 . A,  186 . room,  187 . in,  188 . Polonius,  189 . ’,  \n",
      "190 . s,  191 . house,  192 . .,  \n",
      "\n"
     ]
    }
   ],
   "source": [
    "sentences = word_tokenize(text1000)\n",
    "print_words(sentences, 10)"
   ]
  },
  {
   "cell_type": "markdown",
   "metadata": {},
   "source": [
    "**9. Find all the sentence tokens using NLTK library in text1000 string variable.**"
   ]
  },
  {
   "cell_type": "code",
   "execution_count": null,
   "metadata": {
    "colab": {
     "base_uri": "https://localhost:8080/"
    },
    "id": "tXiURXWjC5jY",
    "outputId": "c122a85d-3545-4b9a-8e13-e470e54d517f"
   },
   "outputs": [
    {
     "name": "stdout",
     "output_type": "stream",
     "text": [
      "0 . \n",
      "Project Gutenberg EBook of Hamlet, by William Shakespeare\n",
      "\n",
      "This eBook is for the use of anyone anywhere in the United States and\n",
      "most other parts of the world at no cost and with almost no\n",
      "restrictions whatsoever.,  \n",
      "1 . You may copy it, give it away or re-use it\n",
      "under the terms of the Project Gutenberg License included with this\n",
      "eBook or online at www.gutenberg.org.,  \n",
      "2 . If you are not located in the\n",
      "United States, you’ll have to check the laws of the country where you\n",
      "are located before using this ebook.,  \n",
      "3 . Title: Hamlet\n",
      "\n",
      "Author: William Shakespeare\n",
      "\n",
      "Release Date: November 1998 [EBook #1524]\n",
      "Last Updated: September 30, 2019\n",
      "\n",
      "Language: English\n",
      "\n",
      "Character set encoding: UTF-8\n",
      "\n",
      "*** START OF THIS PROJECT GUTENBERG EBOOK HAMLET ***\n",
      "\n",
      "\n",
      "\n",
      "This etext was prepared by Dianne Bean.,  \n",
      "4 . THE TRAGEDY OF HAMLET, PRINCE OF DENMARK\n",
      "\n",
      "\n",
      "\n",
      "\n",
      "by William Shakespeare\n",
      "\n",
      "\n",
      "\n",
      "\n",
      "\n",
      "\n",
      "Contents\n",
      "\n",
      "ACT I\n",
      "Scene I. Elsinore.,  \n",
      "5 . A platform before the Castle.,  \n",
      "6 . Scene II.,  \n",
      "7 . Elsinore.,  \n",
      "8 . A room of state in the Castle\n",
      "Scene III.,  \n",
      "9 . A room in Polonius’s house.,  \n",
      "\n"
     ]
    }
   ],
   "source": [
    "sentence_token = sent_tokenize(text1000)\n",
    "print_words(sentence_token, 1)"
   ]
  },
  {
   "cell_type": "markdown",
   "metadata": {},
   "source": [
    "**10. Use NLTK “Tweet tokenizer” to ‘word tokenize’the following tweet.**\n",
    "\n",
    "Todd Gurley II@TG3II ·Feb 7 Should the NFL just retire #12 in the future?"
   ]
  },
  {
   "cell_type": "code",
   "execution_count": null,
   "metadata": {
    "colab": {
     "base_uri": "https://localhost:8080/"
    },
    "id": "Q7KsaGDyEExg",
    "outputId": "bb1d9525-78d5-4d22-fae7-b419a9f141ae"
   },
   "outputs": [
    {
     "name": "stdout",
     "output_type": "stream",
     "text": [
      "0 . ['Todd', 'Gurley', 'II', '@TG3II', '·', 'Feb', '7', 'Should', 'the', 'NFL', 'just', 'retire', '#12', 'in', 'the', 'future', '?'],  \n",
      "\n"
     ]
    }
   ],
   "source": [
    "tweets = open('Tweets.txt').read()\n",
    "tweets = [tweets]\n",
    "tweet_token = TweetTokenizer()\n",
    "tokens = []\n",
    "for i in list(tweets):\n",
    "    tokens.append(tweet_token.tokenize(i))\n",
    "print_words(tokens, 10)\n"
   ]
  }
 ],
 "metadata": {
  "colab": {
   "name": "Assignment2.ipynb",
   "provenance": []
  },
  "kernelspec": {
   "display_name": "Python 3",
   "language": "python",
   "name": "python3"
  },
  "language_info": {
   "codemirror_mode": {
    "name": "ipython",
    "version": 3
   },
   "file_extension": ".py",
   "mimetype": "text/x-python",
   "name": "python",
   "nbconvert_exporter": "python",
   "pygments_lexer": "ipython3",
   "version": "3.7.4"
  }
 },
 "nbformat": 4,
 "nbformat_minor": 1
}
