{
  "nbformat": 4,
  "nbformat_minor": 0,
  "metadata": {
    "colab": {
      "name": "Naive Bayes Modeling Method.ipynb",
      "provenance": [],
      "collapsed_sections": [],
      "toc_visible": true
    },
    "kernelspec": {
      "name": "python3",
      "display_name": "Python 3"
    },
    "language_info": {
      "name": "python"
    }
  },
  "cells": [
    {
      "cell_type": "code",
      "metadata": {
        "id": "Owxbo-zFQfoC"
      },
      "source": [
        ""
      ],
      "execution_count": null,
      "outputs": []
    },
    {
      "cell_type": "markdown",
      "metadata": {
        "id": "NwZRAHcIPMRF"
      },
      "source": [
        "# **NLP Assignment 9**: Naive Bayes Modeling Method\n",
        "#### Emily Daskas\n"
      ]
    },
    {
      "cell_type": "code",
      "metadata": {
        "id": "Oal12ImCbpOo"
      },
      "source": [
        "import pandas as pd\n",
        "import numpy as np\n",
        "from sklearn.feature_extraction.text import CountVectorizer"
      ],
      "execution_count": null,
      "outputs": []
    },
    {
      "cell_type": "markdown",
      "metadata": {
        "id": "vxompE-VbxQM"
      },
      "source": [
        "A small sample of 2 variables distribution is given as follows. There are 9 observations. \n",
        "\n",
        "The domain of A variable is = A1, A2, A3 \n",
        "\n",
        "The domain of B variable is = B1, B2, B3, B4, B5"
      ]
    },
    {
      "cell_type": "markdown",
      "metadata": {
        "id": "NeUgXtu6ckII"
      },
      "source": [
        "Compute the given probabilities."
      ]
    },
    {
      "cell_type": "code",
      "metadata": {
        "colab": {
          "base_uri": "https://localhost:8080/",
          "height": 328
        },
        "id": "OxrhpkLSr9DV",
        "outputId": "5a7f5c1f-1ea8-4034-ea2e-d65fee899e83"
      },
      "source": [
        "A = ['A1','A2','A2','A1','A3','A3','A1','A3','A1']\n",
        "B = ['B1','B2','B2','B1','B4','B3','B4','B4','B3']\n",
        "df = pd.DataFrame(data = {\"A\":A,\"B\":B})\n",
        "df "
      ],
      "execution_count": null,
      "outputs": [
        {
          "output_type": "execute_result",
          "data": {
            "text/html": [
              "<div>\n",
              "<style scoped>\n",
              "    .dataframe tbody tr th:only-of-type {\n",
              "        vertical-align: middle;\n",
              "    }\n",
              "\n",
              "    .dataframe tbody tr th {\n",
              "        vertical-align: top;\n",
              "    }\n",
              "\n",
              "    .dataframe thead th {\n",
              "        text-align: right;\n",
              "    }\n",
              "</style>\n",
              "<table border=\"1\" class=\"dataframe\">\n",
              "  <thead>\n",
              "    <tr style=\"text-align: right;\">\n",
              "      <th></th>\n",
              "      <th>A</th>\n",
              "      <th>B</th>\n",
              "    </tr>\n",
              "  </thead>\n",
              "  <tbody>\n",
              "    <tr>\n",
              "      <th>0</th>\n",
              "      <td>A1</td>\n",
              "      <td>B1</td>\n",
              "    </tr>\n",
              "    <tr>\n",
              "      <th>1</th>\n",
              "      <td>A2</td>\n",
              "      <td>B2</td>\n",
              "    </tr>\n",
              "    <tr>\n",
              "      <th>2</th>\n",
              "      <td>A2</td>\n",
              "      <td>B2</td>\n",
              "    </tr>\n",
              "    <tr>\n",
              "      <th>3</th>\n",
              "      <td>A1</td>\n",
              "      <td>B1</td>\n",
              "    </tr>\n",
              "    <tr>\n",
              "      <th>4</th>\n",
              "      <td>A3</td>\n",
              "      <td>B4</td>\n",
              "    </tr>\n",
              "    <tr>\n",
              "      <th>5</th>\n",
              "      <td>A3</td>\n",
              "      <td>B3</td>\n",
              "    </tr>\n",
              "    <tr>\n",
              "      <th>6</th>\n",
              "      <td>A1</td>\n",
              "      <td>B4</td>\n",
              "    </tr>\n",
              "    <tr>\n",
              "      <th>7</th>\n",
              "      <td>A3</td>\n",
              "      <td>B4</td>\n",
              "    </tr>\n",
              "    <tr>\n",
              "      <th>8</th>\n",
              "      <td>A1</td>\n",
              "      <td>B3</td>\n",
              "    </tr>\n",
              "  </tbody>\n",
              "</table>\n",
              "</div>"
            ],
            "text/plain": [
              "    A   B\n",
              "0  A1  B1\n",
              "1  A2  B2\n",
              "2  A2  B2\n",
              "3  A1  B1\n",
              "4  A3  B4\n",
              "5  A3  B3\n",
              "6  A1  B4\n",
              "7  A3  B4\n",
              "8  A1  B3"
            ]
          },
          "metadata": {
            "tags": []
          },
          "execution_count": 3
        }
      ]
    },
    {
      "cell_type": "code",
      "metadata": {
        "id": "bBf0UNUTyr0k"
      },
      "source": [
        "s = df.groupby(['A', 'B']).size()\n",
        "s = s.reindex(pd.MultiIndex.from_product(s.index.levels), fill_value=0)"
      ],
      "execution_count": null,
      "outputs": []
    },
    {
      "cell_type": "code",
      "metadata": {
        "id": "O5ueF27hr-uW"
      },
      "source": [
        "countsA = df.groupby('A').count()"
      ],
      "execution_count": null,
      "outputs": []
    },
    {
      "cell_type": "code",
      "metadata": {
        "id": "jQIdLdB7w-a9"
      },
      "source": [
        "countsB = df.groupby('B').count()"
      ],
      "execution_count": null,
      "outputs": []
    },
    {
      "cell_type": "code",
      "metadata": {
        "colab": {
          "base_uri": "https://localhost:8080/",
          "height": 204
        },
        "id": "zMNO-ekKv2lQ",
        "outputId": "75bc4642-1f85-4e61-d0af-3665adbfb22f"
      },
      "source": [
        "df_counts = pd.DataFrame(columns=[\"B1\", \"B2\", \"B3\", \"B4\", \"B5\"], data = {\"Total\": countsA['B']})\n",
        "df_counts = df_counts.append([pd.DataFrame(s['A1']).T, pd.DataFrame(s['A2']).T, pd.DataFrame(s['A3']).T])\n",
        "df_counts = df_counts.append([countsB.T])\n",
        "df_counts[\"B5\"] = df_counts[\"B5\"].replace(np.nan, 0)\n",
        "df_counts['A'] = ['A1', 'A2', 'A3', 'B_totals']\n",
        "df_counts = df_counts.set_index('A')\n",
        "df_counts['A_totals'] = df_counts.sum(axis = 1)\n",
        "df_counts\n"
      ],
      "execution_count": null,
      "outputs": [
        {
          "output_type": "execute_result",
          "data": {
            "text/html": [
              "<div>\n",
              "<style scoped>\n",
              "    .dataframe tbody tr th:only-of-type {\n",
              "        vertical-align: middle;\n",
              "    }\n",
              "\n",
              "    .dataframe tbody tr th {\n",
              "        vertical-align: top;\n",
              "    }\n",
              "\n",
              "    .dataframe thead th {\n",
              "        text-align: right;\n",
              "    }\n",
              "</style>\n",
              "<table border=\"1\" class=\"dataframe\">\n",
              "  <thead>\n",
              "    <tr style=\"text-align: right;\">\n",
              "      <th></th>\n",
              "      <th>B1</th>\n",
              "      <th>B2</th>\n",
              "      <th>B3</th>\n",
              "      <th>B4</th>\n",
              "      <th>B5</th>\n",
              "      <th>A_totals</th>\n",
              "    </tr>\n",
              "    <tr>\n",
              "      <th>A</th>\n",
              "      <th></th>\n",
              "      <th></th>\n",
              "      <th></th>\n",
              "      <th></th>\n",
              "      <th></th>\n",
              "      <th></th>\n",
              "    </tr>\n",
              "  </thead>\n",
              "  <tbody>\n",
              "    <tr>\n",
              "      <th>A1</th>\n",
              "      <td>2</td>\n",
              "      <td>0</td>\n",
              "      <td>1</td>\n",
              "      <td>1</td>\n",
              "      <td>0</td>\n",
              "      <td>4.0</td>\n",
              "    </tr>\n",
              "    <tr>\n",
              "      <th>A2</th>\n",
              "      <td>0</td>\n",
              "      <td>2</td>\n",
              "      <td>0</td>\n",
              "      <td>0</td>\n",
              "      <td>0</td>\n",
              "      <td>2.0</td>\n",
              "    </tr>\n",
              "    <tr>\n",
              "      <th>A3</th>\n",
              "      <td>0</td>\n",
              "      <td>0</td>\n",
              "      <td>1</td>\n",
              "      <td>2</td>\n",
              "      <td>0</td>\n",
              "      <td>3.0</td>\n",
              "    </tr>\n",
              "    <tr>\n",
              "      <th>B_totals</th>\n",
              "      <td>2</td>\n",
              "      <td>2</td>\n",
              "      <td>2</td>\n",
              "      <td>3</td>\n",
              "      <td>0</td>\n",
              "      <td>9.0</td>\n",
              "    </tr>\n",
              "  </tbody>\n",
              "</table>\n",
              "</div>"
            ],
            "text/plain": [
              "         B1 B2 B3 B4  B5  A_totals\n",
              "A                                 \n",
              "A1        2  0  1  1   0       4.0\n",
              "A2        0  2  0  0   0       2.0\n",
              "A3        0  0  1  2   0       3.0\n",
              "B_totals  2  2  2  3   0       9.0"
            ]
          },
          "metadata": {
            "tags": []
          },
          "execution_count": 13
        }
      ]
    },
    {
      "cell_type": "code",
      "metadata": {
        "colab": {
          "base_uri": "https://localhost:8080/"
        },
        "id": "N16G8Y2P5f5G",
        "outputId": "ea23f2ec-a665-47e2-de93-7859da704b23"
      },
      "source": [
        "df_counts['B1']['A1']"
      ],
      "execution_count": null,
      "outputs": [
        {
          "output_type": "execute_result",
          "data": {
            "text/plain": [
              "2"
            ]
          },
          "metadata": {
            "tags": []
          },
          "execution_count": 104
        }
      ]
    },
    {
      "cell_type": "code",
      "metadata": {
        "id": "qSc0T1SpG4-i"
      },
      "source": [
        "def reverse_probability(df, A, B):\n",
        "  num_a_given_B = df[B][A]\n",
        "  total = df[B]['B_totals']\n",
        "  return num_a_given_B/total"
      ],
      "execution_count": null,
      "outputs": []
    },
    {
      "cell_type": "code",
      "metadata": {
        "colab": {
          "base_uri": "https://localhost:8080/"
        },
        "id": "9mSUXCJP4YK3",
        "outputId": "5816616f-94c9-4cd6-daac-b459087cd9a2"
      },
      "source": [
        "def compute_probabilities(df, A, B):\n",
        "\n",
        "  reverse_prob = reverse_probability(df, A, B)\n",
        "\n",
        "\n",
        "  total_B = df[B]['B_totals']\n",
        "  total = df['A_totals']['B_totals']\n",
        "\n",
        "  numerator = reverse_prob * total_B / total\n",
        "\n",
        "\n",
        "  total_A = df['A_totals'][A]\n",
        "  denom = total_A/total\n",
        "\n",
        "  return numerator/denom"
      ],
      "execution_count": null,
      "outputs": [
        {
          "output_type": "execute_result",
          "data": {
            "text/plain": [
              "0.5"
            ]
          },
          "metadata": {
            "tags": []
          },
          "execution_count": 16
        }
      ]
    },
    {
      "cell_type": "code",
      "metadata": {
        "id": "sjAfGwB2Hoed"
      },
      "source": [
        "def compute_probabilities_laplace(df, A, B, k):\n",
        "\n",
        "  reverse_prob = reverse_probability(df, A, B)\n",
        "\n",
        "  total_B = df[B]['B_totals'] \n",
        "  total = df['A_totals']['B_totals']\n",
        "  laplace_B = (total_B + k)/ (total + 5*k)\n",
        "  numerator = reverse_prob * laplace_B\n",
        "\n",
        "  total_A = df['A_totals'][A]\n",
        "  laplace_A = (total_A + k)/(total + 3*k)\n",
        "\n",
        "  return numerator/laplace_A"
      ],
      "execution_count": null,
      "outputs": []
    },
    {
      "cell_type": "code",
      "metadata": {
        "id": "xNyaciYxO1Fs"
      },
      "source": [
        "A_list = ['A1', 'A2', 'A3']\n",
        "B_list = ['B1', 'B2', 'B3', 'B4', 'B5']\n"
      ],
      "execution_count": null,
      "outputs": []
    },
    {
      "cell_type": "code",
      "metadata": {
        "colab": {
          "base_uri": "https://localhost:8080/"
        },
        "id": "vUGoQgNv9XLW",
        "outputId": "0aa0b945-567f-4f73-d626-5fd95ced8a60"
      },
      "source": [
        "\n",
        "print(\"PROBABILTIES\")\n",
        "print()\n",
        "for a in A_list:\n",
        "  for b in B_list:\n",
        "    print(\"B =\", b, \"| A =\", a, \":\", compute_probabilities(df_counts, a, b))\n",
        "  print()"
      ],
      "execution_count": null,
      "outputs": [
        {
          "output_type": "stream",
          "text": [
            "PROBABILTIES\n",
            "\n",
            "B = B1 | A = A1 : 0.5\n",
            "B = B2 | A = A1 : 0.0\n",
            "B = B3 | A = A1 : 0.25\n",
            "B = B4 | A = A1 : 0.25\n",
            "B = B5 | A = A1 : nan\n",
            "\n",
            "B = B1 | A = A2 : 0.0\n",
            "B = B2 | A = A2 : 1.0\n",
            "B = B3 | A = A2 : 0.0\n",
            "B = B4 | A = A2 : 0.0\n",
            "B = B5 | A = A2 : nan\n",
            "\n",
            "B = B1 | A = A3 : 0.0\n",
            "B = B2 | A = A3 : 0.0\n",
            "B = B3 | A = A3 : 0.3333333333333333\n",
            "B = B4 | A = A3 : 0.6666666666666666\n",
            "B = B5 | A = A3 : nan\n",
            "\n"
          ],
          "name": "stdout"
        },
        {
          "output_type": "stream",
          "text": [
            "/usr/local/lib/python3.7/dist-packages/ipykernel_launcher.py:4: RuntimeWarning: invalid value encountered in long_scalars\n",
            "  after removing the cwd from sys.path.\n"
          ],
          "name": "stderr"
        }
      ]
    },
    {
      "cell_type": "code",
      "metadata": {
        "colab": {
          "base_uri": "https://localhost:8080/"
        },
        "id": "swKvi1yPDju8",
        "outputId": "d29e3e7e-79b4-4130-f288-01835288002b"
      },
      "source": [
        "\n",
        "print(\"LAPLACE SMOOTHING\")\n",
        "print()\n",
        "for a in A_list:\n",
        "  for b in B_list:\n",
        "    print(\"B =\", b, \"| A =\", a, \":\", compute_probabilities_laplace(df_counts, a, b, 1))\n",
        "  print()"
      ],
      "execution_count": null,
      "outputs": [
        {
          "output_type": "stream",
          "text": [
            "LAPLACE SMOOTHING\n",
            "\n",
            "B = B1 | A = A1 : 0.5142857142857142\n",
            "B = B2 | A = A1 : 0.0\n",
            "B = B3 | A = A1 : 0.2571428571428571\n",
            "B = B4 | A = A1 : 0.22857142857142854\n",
            "B = B5 | A = A1 : nan\n",
            "\n",
            "B = B1 | A = A2 : 0.0\n",
            "B = B2 | A = A2 : 0.8571428571428571\n",
            "B = B3 | A = A2 : 0.0\n",
            "B = B4 | A = A2 : 0.0\n",
            "B = B5 | A = A2 : nan\n",
            "\n",
            "B = B1 | A = A3 : 0.0\n",
            "B = B2 | A = A3 : 0.0\n",
            "B = B3 | A = A3 : 0.32142857142857145\n",
            "B = B4 | A = A3 : 0.5714285714285714\n",
            "B = B5 | A = A3 : nan\n",
            "\n"
          ],
          "name": "stdout"
        },
        {
          "output_type": "stream",
          "text": [
            "/usr/local/lib/python3.7/dist-packages/ipykernel_launcher.py:4: RuntimeWarning: invalid value encountered in long_scalars\n",
            "  after removing the cwd from sys.path.\n"
          ],
          "name": "stderr"
        }
      ]
    },
    {
      "cell_type": "markdown",
      "metadata": {
        "id": "Txc2ikTQeu35"
      },
      "source": [
        "# Problem 2"
      ]
    },
    {
      "cell_type": "code",
      "metadata": {
        "id": "5iGGc-JoewW3"
      },
      "source": [
        "corpus = [[\"money, money, money\", 'Spam'], [\"free money for free gambling fun\", 'Spam'], [\"gambling for fun\", 'Spam'], [\"machine learning for fun, fun, fun\", 'Not'], [\"free machine learning\", 'Not']]"
      ],
      "execution_count": null,
      "outputs": []
    },
    {
      "cell_type": "code",
      "metadata": {
        "id": "R_J19wS5fC_y"
      },
      "source": [
        "corpus_df = pd.DataFrame(corpus, columns=['Sentence', 'Class'])"
      ],
      "execution_count": null,
      "outputs": []
    },
    {
      "cell_type": "code",
      "metadata": {
        "colab": {
          "base_uri": "https://localhost:8080/",
          "height": 204
        },
        "id": "TqU4jr1OfZBD",
        "outputId": "086f0c18-19d7-42cc-ba11-23b5602402d3"
      },
      "source": [
        "corpus_df"
      ],
      "execution_count": null,
      "outputs": [
        {
          "output_type": "execute_result",
          "data": {
            "text/html": [
              "<div>\n",
              "<style scoped>\n",
              "    .dataframe tbody tr th:only-of-type {\n",
              "        vertical-align: middle;\n",
              "    }\n",
              "\n",
              "    .dataframe tbody tr th {\n",
              "        vertical-align: top;\n",
              "    }\n",
              "\n",
              "    .dataframe thead th {\n",
              "        text-align: right;\n",
              "    }\n",
              "</style>\n",
              "<table border=\"1\" class=\"dataframe\">\n",
              "  <thead>\n",
              "    <tr style=\"text-align: right;\">\n",
              "      <th></th>\n",
              "      <th>Sentence</th>\n",
              "      <th>Class</th>\n",
              "    </tr>\n",
              "  </thead>\n",
              "  <tbody>\n",
              "    <tr>\n",
              "      <th>0</th>\n",
              "      <td>money, money, money</td>\n",
              "      <td>Spam</td>\n",
              "    </tr>\n",
              "    <tr>\n",
              "      <th>1</th>\n",
              "      <td>free money for free gambling fun</td>\n",
              "      <td>Spam</td>\n",
              "    </tr>\n",
              "    <tr>\n",
              "      <th>2</th>\n",
              "      <td>gambling for fun</td>\n",
              "      <td>Spam</td>\n",
              "    </tr>\n",
              "    <tr>\n",
              "      <th>3</th>\n",
              "      <td>machine learning for fun, fun, fun</td>\n",
              "      <td>Not</td>\n",
              "    </tr>\n",
              "    <tr>\n",
              "      <th>4</th>\n",
              "      <td>free machine learning</td>\n",
              "      <td>Not</td>\n",
              "    </tr>\n",
              "  </tbody>\n",
              "</table>\n",
              "</div>"
            ],
            "text/plain": [
              "                             Sentence Class\n",
              "0                 money, money, money  Spam\n",
              "1    free money for free gambling fun  Spam\n",
              "2                    gambling for fun  Spam\n",
              "3  machine learning for fun, fun, fun   Not\n",
              "4               free machine learning   Not"
            ]
          },
          "metadata": {
            "tags": []
          },
          "execution_count": 42
        }
      ]
    },
    {
      "cell_type": "code",
      "metadata": {
        "id": "CP2EYI7Uf3y1"
      },
      "source": [
        "cv = CountVectorizer()\n",
        "X = cv.fit_transform(corpus_df['Sentence'])"
      ],
      "execution_count": null,
      "outputs": []
    },
    {
      "cell_type": "code",
      "metadata": {
        "colab": {
          "base_uri": "https://localhost:8080/"
        },
        "id": "bxb1nflYgHxA",
        "outputId": "8e770425-555a-4fa2-e5fe-f7a47fadf3a0"
      },
      "source": [
        "print(X)"
      ],
      "execution_count": null,
      "outputs": [
        {
          "output_type": "stream",
          "text": [
            "  (0, 6)\t3\n",
            "  (1, 6)\t1\n",
            "  (1, 1)\t2\n",
            "  (1, 0)\t1\n",
            "  (1, 3)\t1\n",
            "  (1, 2)\t1\n",
            "  (2, 0)\t1\n",
            "  (2, 3)\t1\n",
            "  (2, 2)\t1\n",
            "  (3, 0)\t1\n",
            "  (3, 2)\t3\n",
            "  (3, 5)\t1\n",
            "  (3, 4)\t1\n",
            "  (4, 1)\t1\n",
            "  (4, 5)\t1\n",
            "  (4, 4)\t1\n"
          ],
          "name": "stdout"
        }
      ]
    },
    {
      "cell_type": "code",
      "metadata": {
        "id": "13oD5rIzgi9h"
      },
      "source": [
        "df = pd.DataFrame(X.toarray(),columns=cv.get_feature_names())\n",
        "df['Class'] = corpus_df['Class']"
      ],
      "execution_count": null,
      "outputs": []
    },
    {
      "cell_type": "code",
      "metadata": {
        "colab": {
          "base_uri": "https://localhost:8080/",
          "height": 204
        },
        "id": "ne58_WHYg-lb",
        "outputId": "deef3599-4c5c-4316-e604-20cb70d22fd4"
      },
      "source": [
        "df"
      ],
      "execution_count": null,
      "outputs": [
        {
          "output_type": "execute_result",
          "data": {
            "text/html": [
              "<div>\n",
              "<style scoped>\n",
              "    .dataframe tbody tr th:only-of-type {\n",
              "        vertical-align: middle;\n",
              "    }\n",
              "\n",
              "    .dataframe tbody tr th {\n",
              "        vertical-align: top;\n",
              "    }\n",
              "\n",
              "    .dataframe thead th {\n",
              "        text-align: right;\n",
              "    }\n",
              "</style>\n",
              "<table border=\"1\" class=\"dataframe\">\n",
              "  <thead>\n",
              "    <tr style=\"text-align: right;\">\n",
              "      <th></th>\n",
              "      <th>for</th>\n",
              "      <th>free</th>\n",
              "      <th>fun</th>\n",
              "      <th>gambling</th>\n",
              "      <th>learning</th>\n",
              "      <th>machine</th>\n",
              "      <th>money</th>\n",
              "      <th>Class</th>\n",
              "    </tr>\n",
              "  </thead>\n",
              "  <tbody>\n",
              "    <tr>\n",
              "      <th>0</th>\n",
              "      <td>0</td>\n",
              "      <td>0</td>\n",
              "      <td>0</td>\n",
              "      <td>0</td>\n",
              "      <td>0</td>\n",
              "      <td>0</td>\n",
              "      <td>3</td>\n",
              "      <td>Spam</td>\n",
              "    </tr>\n",
              "    <tr>\n",
              "      <th>1</th>\n",
              "      <td>1</td>\n",
              "      <td>2</td>\n",
              "      <td>1</td>\n",
              "      <td>1</td>\n",
              "      <td>0</td>\n",
              "      <td>0</td>\n",
              "      <td>1</td>\n",
              "      <td>Spam</td>\n",
              "    </tr>\n",
              "    <tr>\n",
              "      <th>2</th>\n",
              "      <td>1</td>\n",
              "      <td>0</td>\n",
              "      <td>1</td>\n",
              "      <td>1</td>\n",
              "      <td>0</td>\n",
              "      <td>0</td>\n",
              "      <td>0</td>\n",
              "      <td>Spam</td>\n",
              "    </tr>\n",
              "    <tr>\n",
              "      <th>3</th>\n",
              "      <td>1</td>\n",
              "      <td>0</td>\n",
              "      <td>3</td>\n",
              "      <td>0</td>\n",
              "      <td>1</td>\n",
              "      <td>1</td>\n",
              "      <td>0</td>\n",
              "      <td>Not</td>\n",
              "    </tr>\n",
              "    <tr>\n",
              "      <th>4</th>\n",
              "      <td>0</td>\n",
              "      <td>1</td>\n",
              "      <td>0</td>\n",
              "      <td>0</td>\n",
              "      <td>1</td>\n",
              "      <td>1</td>\n",
              "      <td>0</td>\n",
              "      <td>Not</td>\n",
              "    </tr>\n",
              "  </tbody>\n",
              "</table>\n",
              "</div>"
            ],
            "text/plain": [
              "   for  free  fun  gambling  learning  machine  money Class\n",
              "0    0     0    0         0         0        0      3  Spam\n",
              "1    1     2    1         1         0        0      1  Spam\n",
              "2    1     0    1         1         0        0      0  Spam\n",
              "3    1     0    3         0         1        1      0   Not\n",
              "4    0     1    0         0         1        1      0   Not"
            ]
          },
          "metadata": {
            "tags": []
          },
          "execution_count": 46
        }
      ]
    },
    {
      "cell_type": "code",
      "metadata": {
        "colab": {
          "base_uri": "https://localhost:8080/"
        },
        "id": "1oD_aRnwg-5O",
        "outputId": "1912606d-ce65-4e5b-d9e8-6a7aeb444237"
      },
      "source": [
        "len_corpus = len(corpus)\n",
        "p = df.where(df['Class'] == 'Spam').dropna()\n",
        "p_true = len(p)/len_corpus\n",
        "f = df.where(df['Class'] == 'Not').dropna()\n",
        "p_negative = len(f)/len_corpus\n",
        "\n",
        "print(\"FIRST LEVEL PROBABILITIES:\")\n",
        "print(\"True (Spam) Documents =\", p_true)\n",
        "print(\"False (Not Spam) Documents =\", p_negative)"
      ],
      "execution_count": null,
      "outputs": [
        {
          "output_type": "stream",
          "text": [
            "FIRST LEVEL PROBABILITIES:\n",
            "True (Spam) Documents = 0.6\n",
            "False (Not Spam) Documents = 0.4\n"
          ],
          "name": "stdout"
        }
      ]
    },
    {
      "cell_type": "code",
      "metadata": {
        "id": "moTOSLbyjfGR",
        "colab": {
          "base_uri": "https://localhost:8080/"
        },
        "outputId": "8062ea30-7a1b-46a5-bc95-e91b51ac2ecc"
      },
      "source": [
        "spam_df = df.where(df['Class'] == 'Spam').dropna()\n",
        "sum_of_cols = spam_df.sum(axis = 0)\n",
        "\n",
        "spam_df_sum = spam_df.append(sum_of_cols, ignore_index = True)\n",
        "spam_df_sum.at[3, 'Class'] = 'SUM Spam'\n",
        "print(spam_df_sum)"
      ],
      "execution_count": null,
      "outputs": [
        {
          "output_type": "stream",
          "text": [
            "   for  free  fun  gambling  learning  machine  money     Class\n",
            "0  0.0   0.0  0.0       0.0       0.0      0.0    3.0      Spam\n",
            "1  1.0   2.0  1.0       1.0       0.0      0.0    1.0      Spam\n",
            "2  1.0   0.0  1.0       1.0       0.0      0.0    0.0      Spam\n",
            "3  2.0   2.0  2.0       2.0       0.0      0.0    4.0  SUM Spam\n"
          ],
          "name": "stdout"
        }
      ]
    },
    {
      "cell_type": "code",
      "metadata": {
        "id": "Eg3cZogAnaol"
      },
      "source": [
        "vocabulary = len(cv.get_feature_names())"
      ],
      "execution_count": null,
      "outputs": []
    },
    {
      "cell_type": "code",
      "metadata": {
        "id": "iXzrQNXFsMwv"
      },
      "source": [
        "total_spam_words = 0\n",
        "for i in range(vocabulary):\n",
        "  total_spam_words = total_spam_words + sum_of_cols[i]\n",
        "conditional_probability = sum_of_cols\n",
        "\n",
        "for i in range(vocabulary):\n",
        "  conditional_probability[i] = (conditional_probability[i] + 1) / (vocabulary + total_spam_words)\n",
        "\n",
        "df_spam_sum_prob = spam_df_sum.append(conditional_probability, ignore_index= True)\n",
        "df_spam_sum_prob.at[4,'Class'] = 'Probability'"
      ],
      "execution_count": null,
      "outputs": []
    },
    {
      "cell_type": "code",
      "metadata": {
        "colab": {
          "base_uri": "https://localhost:8080/",
          "height": 433
        },
        "id": "UzuHro3FsRxE",
        "outputId": "ec1017d3-8182-4135-abc2-cb9a09a8cc14"
      },
      "source": [
        "print(df_spam_sum_prob)\n",
        "df_spam_sum_prob.T"
      ],
      "execution_count": null,
      "outputs": [
        {
          "output_type": "stream",
          "text": [
            "        for      free       fun  ...   machine     money        Class\n",
            "0  0.000000  0.000000  0.000000  ...  0.000000  3.000000         Spam\n",
            "1  1.000000  2.000000  1.000000  ...  0.000000  1.000000         Spam\n",
            "2  1.000000  0.000000  1.000000  ...  0.000000  0.000000         Spam\n",
            "3  2.000000  2.000000  2.000000  ...  0.000000  4.000000     SUM Spam\n",
            "4  0.157895  0.157895  0.157895  ...  0.052632  0.263158  Probability\n",
            "\n",
            "[5 rows x 8 columns]\n"
          ],
          "name": "stdout"
        },
        {
          "output_type": "execute_result",
          "data": {
            "text/html": [
              "<div>\n",
              "<style scoped>\n",
              "    .dataframe tbody tr th:only-of-type {\n",
              "        vertical-align: middle;\n",
              "    }\n",
              "\n",
              "    .dataframe tbody tr th {\n",
              "        vertical-align: top;\n",
              "    }\n",
              "\n",
              "    .dataframe thead th {\n",
              "        text-align: right;\n",
              "    }\n",
              "</style>\n",
              "<table border=\"1\" class=\"dataframe\">\n",
              "  <thead>\n",
              "    <tr style=\"text-align: right;\">\n",
              "      <th></th>\n",
              "      <th>0</th>\n",
              "      <th>1</th>\n",
              "      <th>2</th>\n",
              "      <th>3</th>\n",
              "      <th>4</th>\n",
              "    </tr>\n",
              "  </thead>\n",
              "  <tbody>\n",
              "    <tr>\n",
              "      <th>for</th>\n",
              "      <td>0</td>\n",
              "      <td>1</td>\n",
              "      <td>1</td>\n",
              "      <td>2</td>\n",
              "      <td>0.157895</td>\n",
              "    </tr>\n",
              "    <tr>\n",
              "      <th>free</th>\n",
              "      <td>0</td>\n",
              "      <td>2</td>\n",
              "      <td>0</td>\n",
              "      <td>2</td>\n",
              "      <td>0.157895</td>\n",
              "    </tr>\n",
              "    <tr>\n",
              "      <th>fun</th>\n",
              "      <td>0</td>\n",
              "      <td>1</td>\n",
              "      <td>1</td>\n",
              "      <td>2</td>\n",
              "      <td>0.157895</td>\n",
              "    </tr>\n",
              "    <tr>\n",
              "      <th>gambling</th>\n",
              "      <td>0</td>\n",
              "      <td>1</td>\n",
              "      <td>1</td>\n",
              "      <td>2</td>\n",
              "      <td>0.157895</td>\n",
              "    </tr>\n",
              "    <tr>\n",
              "      <th>learning</th>\n",
              "      <td>0</td>\n",
              "      <td>0</td>\n",
              "      <td>0</td>\n",
              "      <td>0</td>\n",
              "      <td>0.0526316</td>\n",
              "    </tr>\n",
              "    <tr>\n",
              "      <th>machine</th>\n",
              "      <td>0</td>\n",
              "      <td>0</td>\n",
              "      <td>0</td>\n",
              "      <td>0</td>\n",
              "      <td>0.0526316</td>\n",
              "    </tr>\n",
              "    <tr>\n",
              "      <th>money</th>\n",
              "      <td>3</td>\n",
              "      <td>1</td>\n",
              "      <td>0</td>\n",
              "      <td>4</td>\n",
              "      <td>0.263158</td>\n",
              "    </tr>\n",
              "    <tr>\n",
              "      <th>Class</th>\n",
              "      <td>Spam</td>\n",
              "      <td>Spam</td>\n",
              "      <td>Spam</td>\n",
              "      <td>SUM Spam</td>\n",
              "      <td>Probability</td>\n",
              "    </tr>\n",
              "  </tbody>\n",
              "</table>\n",
              "</div>"
            ],
            "text/plain": [
              "             0     1     2         3            4\n",
              "for          0     1     1         2     0.157895\n",
              "free         0     2     0         2     0.157895\n",
              "fun          0     1     1         2     0.157895\n",
              "gambling     0     1     1         2     0.157895\n",
              "learning     0     0     0         0    0.0526316\n",
              "machine      0     0     0         0    0.0526316\n",
              "money        3     1     0         4     0.263158\n",
              "Class     Spam  Spam  Spam  SUM Spam  Probability"
            ]
          },
          "metadata": {
            "tags": []
          },
          "execution_count": 65
        }
      ]
    },
    {
      "cell_type": "code",
      "metadata": {
        "colab": {
          "base_uri": "https://localhost:8080/"
        },
        "id": "3ykInpsNs3VG",
        "outputId": "e4a80224-952a-4003-a1ed-a33ce6cb3ae2"
      },
      "source": [
        "not_spam_df = df.where(df['Class'] == 'Not').dropna()\n",
        "sum_of_cols = not_spam_df.sum(axis = 0)\n",
        "\n",
        "not_spam_df_sum = not_spam_df.append(sum_of_cols, ignore_index = True)\n",
        "not_spam_df_sum.at[2, 'Class'] = 'SUM Non-Spam'\n",
        "print(not_spam_df_sum)"
      ],
      "execution_count": null,
      "outputs": [
        {
          "output_type": "stream",
          "text": [
            "   for  free  fun  gambling  learning  machine  money         Class\n",
            "0  1.0   0.0  3.0       0.0       1.0      1.0    0.0           Not\n",
            "1  0.0   1.0  0.0       0.0       1.0      1.0    0.0           Not\n",
            "2  1.0   1.0  3.0       0.0       2.0      2.0    0.0  SUM Non-Spam\n"
          ],
          "name": "stdout"
        }
      ]
    },
    {
      "cell_type": "code",
      "metadata": {
        "id": "E20XvY7ktaKP"
      },
      "source": [
        "total_not_spam_words = 0\n",
        "for i in range(vocabulary):\n",
        "  total_not_spam_words = total_not_spam_words + sum_of_cols[i]\n",
        "conditional_probability = sum_of_cols\n",
        "\n",
        "for i in range(vocabulary):\n",
        "  conditional_probability[i] = (conditional_probability[i] + 1) / (vocabulary + total_not_spam_words)\n",
        "\n",
        "df_not_spam_sum_prob = not_spam_df_sum.append(conditional_probability, ignore_index= True)\n",
        "df_not_spam_sum_prob.at[3,'Class'] = 'Probability'"
      ],
      "execution_count": null,
      "outputs": []
    },
    {
      "cell_type": "code",
      "metadata": {
        "colab": {
          "base_uri": "https://localhost:8080/"
        },
        "id": "Yg_3Of_etz0z",
        "outputId": "43c2c956-e9d0-4462-8b80-45d51a24f52f"
      },
      "source": [
        "print(df_not_spam_sum_prob)"
      ],
      "execution_count": null,
      "outputs": [
        {
          "output_type": "stream",
          "text": [
            "        for      free      fun  ...   machine     money         Class\n",
            "0  1.000000  0.000000  3.00000  ...  1.000000  0.000000           Not\n",
            "1  0.000000  1.000000  0.00000  ...  1.000000  0.000000           Not\n",
            "2  1.000000  1.000000  3.00000  ...  2.000000  0.000000  SUM Non-Spam\n",
            "3  0.140625  0.140625  0.15625  ...  0.148438  0.132812   Probability\n",
            "\n",
            "[4 rows x 8 columns]\n"
          ],
          "name": "stdout"
        }
      ]
    },
    {
      "cell_type": "code",
      "metadata": {
        "colab": {
          "base_uri": "https://localhost:8080/",
          "height": 297
        },
        "id": "5y6M9wkit2vy",
        "outputId": "120baa48-550e-4db3-c8b4-2f8030b6b8fb"
      },
      "source": [
        "df_not_spam_sum_prob.T"
      ],
      "execution_count": null,
      "outputs": [
        {
          "output_type": "execute_result",
          "data": {
            "text/html": [
              "<div>\n",
              "<style scoped>\n",
              "    .dataframe tbody tr th:only-of-type {\n",
              "        vertical-align: middle;\n",
              "    }\n",
              "\n",
              "    .dataframe tbody tr th {\n",
              "        vertical-align: top;\n",
              "    }\n",
              "\n",
              "    .dataframe thead th {\n",
              "        text-align: right;\n",
              "    }\n",
              "</style>\n",
              "<table border=\"1\" class=\"dataframe\">\n",
              "  <thead>\n",
              "    <tr style=\"text-align: right;\">\n",
              "      <th></th>\n",
              "      <th>0</th>\n",
              "      <th>1</th>\n",
              "      <th>2</th>\n",
              "      <th>3</th>\n",
              "    </tr>\n",
              "  </thead>\n",
              "  <tbody>\n",
              "    <tr>\n",
              "      <th>for</th>\n",
              "      <td>1</td>\n",
              "      <td>0</td>\n",
              "      <td>1</td>\n",
              "      <td>0.140625</td>\n",
              "    </tr>\n",
              "    <tr>\n",
              "      <th>free</th>\n",
              "      <td>0</td>\n",
              "      <td>1</td>\n",
              "      <td>1</td>\n",
              "      <td>0.140625</td>\n",
              "    </tr>\n",
              "    <tr>\n",
              "      <th>fun</th>\n",
              "      <td>3</td>\n",
              "      <td>0</td>\n",
              "      <td>3</td>\n",
              "      <td>0.15625</td>\n",
              "    </tr>\n",
              "    <tr>\n",
              "      <th>gambling</th>\n",
              "      <td>0</td>\n",
              "      <td>0</td>\n",
              "      <td>0</td>\n",
              "      <td>0.132812</td>\n",
              "    </tr>\n",
              "    <tr>\n",
              "      <th>learning</th>\n",
              "      <td>1</td>\n",
              "      <td>1</td>\n",
              "      <td>2</td>\n",
              "      <td>0.148438</td>\n",
              "    </tr>\n",
              "    <tr>\n",
              "      <th>machine</th>\n",
              "      <td>1</td>\n",
              "      <td>1</td>\n",
              "      <td>2</td>\n",
              "      <td>0.148438</td>\n",
              "    </tr>\n",
              "    <tr>\n",
              "      <th>money</th>\n",
              "      <td>0</td>\n",
              "      <td>0</td>\n",
              "      <td>0</td>\n",
              "      <td>0.132812</td>\n",
              "    </tr>\n",
              "    <tr>\n",
              "      <th>Class</th>\n",
              "      <td>Not</td>\n",
              "      <td>Not</td>\n",
              "      <td>SUM Non-Spam</td>\n",
              "      <td>Probability</td>\n",
              "    </tr>\n",
              "  </tbody>\n",
              "</table>\n",
              "</div>"
            ],
            "text/plain": [
              "            0    1             2            3\n",
              "for         1    0             1     0.140625\n",
              "free        0    1             1     0.140625\n",
              "fun         3    0             3      0.15625\n",
              "gambling    0    0             0     0.132812\n",
              "learning    1    1             2     0.148438\n",
              "machine     1    1             2     0.148438\n",
              "money       0    0             0     0.132812\n",
              "Class     Not  Not  SUM Non-Spam  Probability"
            ]
          },
          "metadata": {
            "tags": []
          },
          "execution_count": 64
        }
      ]
    },
    {
      "cell_type": "code",
      "metadata": {
        "id": "tbJQxfmxuA16"
      },
      "source": [
        "def prob_sum(text, df, prob):\n",
        "  prob_sum = 0\n",
        "  for i in (df):\n",
        "    for ii in text:\n",
        "      if ii == i:\n",
        "        prob_sum = df[i][len(df)-1]\n",
        "  return prob * prob_sum"
      ],
      "execution_count": null,
      "outputs": []
    },
    {
      "cell_type": "code",
      "metadata": {
        "colab": {
          "base_uri": "https://localhost:8080/"
        },
        "id": "ogkcTGIq8T8z",
        "outputId": "34772d28-79d4-4d1a-86a3-ba46ccdf071a"
      },
      "source": [
        "test = \"machine learning for free\"\n",
        "test = test.split(' ')\n",
        "test"
      ],
      "execution_count": null,
      "outputs": [
        {
          "output_type": "execute_result",
          "data": {
            "text/plain": [
              "['machine', 'learning', 'for', 'free']"
            ]
          },
          "metadata": {
            "tags": []
          },
          "execution_count": 183
        }
      ]
    },
    {
      "cell_type": "code",
      "metadata": {
        "colab": {
          "base_uri": "https://localhost:8080/"
        },
        "id": "feBgMIOgyh4V",
        "outputId": "84610292-7624-441c-ddcb-26855ad48751"
      },
      "source": [
        "prob_sum(test, df_spam_sum_prob, p_true) #𝑃𝑟𝑜𝑏𝑎𝑏𝑖𝑙𝑖𝑡𝑦_𝐷𝑜𝑐(𝑆𝑃𝐴𝑀=𝑡𝑟𝑢𝑒)"
      ],
      "execution_count": null,
      "outputs": [
        {
          "output_type": "execute_result",
          "data": {
            "text/plain": [
              "0.03157894736842105"
            ]
          },
          "metadata": {
            "tags": []
          },
          "execution_count": 184
        }
      ]
    },
    {
      "cell_type": "code",
      "metadata": {
        "colab": {
          "base_uri": "https://localhost:8080/"
        },
        "id": "zOyrk6tuwyUr",
        "outputId": "95c05af7-8365-4e1c-848c-d3f1086761ec"
      },
      "source": [
        "\n",
        "prob_sum(test, df_not_spam_sum_prob, p_negative) #𝑃𝑟𝑜𝑏𝑎𝑏𝑖𝑙𝑖𝑡𝑦_𝐷𝑜𝑐(𝑆𝑃𝐴𝑀=𝑓𝑎𝑙𝑠𝑒)"
      ],
      "execution_count": null,
      "outputs": [
        {
          "output_type": "execute_result",
          "data": {
            "text/plain": [
              "0.059375000000000004"
            ]
          },
          "metadata": {
            "tags": []
          },
          "execution_count": 192
        }
      ]
    },
    {
      "cell_type": "code",
      "metadata": {
        "colab": {
          "base_uri": "https://localhost:8080/"
        },
        "id": "V0kWJTKD8rqx",
        "outputId": "b796f883-763f-4144-84d5-92d914466e96"
      },
      "source": [
        "print(\"Is the text spam?\")\n",
        "prob_sum(test, df_spam_sum_prob, p_true) > prob_sum(test, df_not_spam_sum_prob, p_negative)"
      ],
      "execution_count": null,
      "outputs": [
        {
          "output_type": "stream",
          "text": [
            "Is the text spam?\n"
          ],
          "name": "stdout"
        },
        {
          "output_type": "execute_result",
          "data": {
            "text/plain": [
              "False"
            ]
          },
          "metadata": {
            "tags": []
          },
          "execution_count": 193
        }
      ]
    }
  ]
}